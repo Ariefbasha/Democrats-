{
  "nbformat": 4,
  "nbformat_minor": 0,
  "metadata": {
    "colab": {
      "name": "30june",
      "provenance": [],
      "authorship_tag": "ABX9TyO/rWb/cGso3aPqKN1gIrzn",
      "include_colab_link": true
    },
    "kernelspec": {
      "name": "python3",
      "display_name": "Python 3"
    }
  },
  "cells": [
    {
      "cell_type": "markdown",
      "metadata": {
        "id": "view-in-github",
        "colab_type": "text"
      },
      "source": [
        "<a href=\"https://colab.research.google.com/github/Ariefbasha/Democrats-/blob/master/30june.ipynb\" target=\"_parent\"><img src=\"https://colab.research.google.com/assets/colab-badge.svg\" alt=\"Open In Colab\"/></a>"
      ]
    },
    {
      "cell_type": "markdown",
      "metadata": {
        "id": "fl8my3hhgBn2",
        "colab_type": "text"
      },
      "source": [
        "1.Program to read an entire file.\n",
        "\n"
      ]
    },
    {
      "cell_type": "code",
      "metadata": {
        "id": "wFsedVJTgC15",
        "colab_type": "code",
        "colab": {}
      },
      "source": [
        "f=open(\"assignment.txt\",\"r\")\n",
        "content=f.read()\n",
        "print(\"Content present in the file assignment.txt is\\n\",content)"
      ],
      "execution_count": null,
      "outputs": []
    },
    {
      "cell_type": "markdown",
      "metadata": {
        "id": "-RZrGhElgIl5",
        "colab_type": "text"
      },
      "source": [
        "2.Program to read the first n lines of a file.\n",
        "\n"
      ]
    },
    {
      "cell_type": "code",
      "metadata": {
        "id": "d1P2lqLjgUh3",
        "colab_type": "code",
        "colab": {}
      },
      "source": [
        "f=open(\"assignment.txt\",\"r\")\n",
        "n=int(input(\"Enter the number of lines you want to read: \"))\n",
        "print(\"The content present in the first\",n,\"lines present in the file is\\n:\")\n",
        "for i in range(n):\n",
        "    line=f.readline()\n",
        "    print(line)"
      ],
      "execution_count": null,
      "outputs": []
    },
    {
      "cell_type": "markdown",
      "metadata": {
        "id": "p8GPimhfgVW3",
        "colab_type": "text"
      },
      "source": [
        "3.Program to append text to a file and display it.\n",
        "\n"
      ]
    },
    {
      "cell_type": "code",
      "metadata": {
        "id": "ZOAtd4iJgZTV",
        "colab_type": "code",
        "colab": {}
      },
      "source": [
        "f=open(\"assignment.txt\",\"a\")\n",
        "content=\"\"\"\\nI can even say goodbye in four languages.\n",
        "Adios! (Spanish)\n",
        "Addio! (Italian)\n",
        "Tschus! (German)\n",
        "Au Revoir! (French)\"\"\"\n",
        "f.write(content)\n",
        "f.close()"
      ],
      "execution_count": null,
      "outputs": []
    },
    {
      "cell_type": "markdown",
      "metadata": {
        "id": "hxexffKoggsN",
        "colab_type": "text"
      },
      "source": [
        "4.Program to read last n lines of a file."
      ]
    },
    {
      "cell_type": "code",
      "metadata": {
        "id": "excqtCA1gjBC",
        "colab_type": "code",
        "colab": {}
      },
      "source": [
        "f=open(\"assignment.txt\",\"r\")\n",
        "n=int(input(\"Enter the value of n to print the last lines: \"))\n",
        "last=f.readlines() [-n:]\n",
        "for line in last:\n",
        "    print(line, end ='')"
      ],
      "execution_count": null,
      "outputs": []
    },
    {
      "cell_type": "markdown",
      "metadata": {
        "id": "HT1zXaTWgm3s",
        "colab_type": "text"
      },
      "source": [
        "5.Program to read a file line by line and store it in a variable.\n",
        "\n"
      ]
    },
    {
      "cell_type": "code",
      "metadata": {
        "id": "Lmtq1dgcgn-Y",
        "colab_type": "code",
        "colab": {}
      },
      "source": [
        "def read_file(name):\n",
        "        with open (name, \"r\") as myfile:\n",
        "                content=myfile.readlines()\n",
        "                print(content)\n",
        "read_file('assignment.txt')"
      ],
      "execution_count": null,
      "outputs": []
    },
    {
      "cell_type": "markdown",
      "metadata": {
        "id": "aEuNSCFxgxNG",
        "colab_type": "text"
      },
      "source": [
        "6.Program to read a file line by line and store it in a list.\n",
        "\n"
      ]
    },
    {
      "cell_type": "code",
      "metadata": {
        "id": "j5VTF0rCg1zM",
        "colab_type": "code",
        "colab": {}
      },
      "source": [
        "def read_file(name):\n",
        "        content = []\n",
        "        with open(name) as f:    \n",
        "                for lines in f:\n",
        "                        content=list(f.readlines())\n",
        "                print(content)\n",
        "\n",
        "read_file('assignment.txt')"
      ],
      "execution_count": null,
      "outputs": []
    },
    {
      "cell_type": "markdown",
      "metadata": {
        "id": "EGsuXXeEg5Uw",
        "colab_type": "text"
      },
      "source": [
        "7.Program to read a file line by line and store it in an array.\n",
        "\n"
      ]
    },
    {
      "cell_type": "code",
      "metadata": {
        "id": "oZbQjs8Vg8su",
        "colab_type": "code",
        "colab": {}
      },
      "source": [
        "def read(name):\n",
        "        content = []\n",
        "        with open(name) as f:  \n",
        "                for line in f:\n",
        "                        content.append(line)\n",
        "                print(content)\n",
        "\n",
        "read('assignment.txt')"
      ],
      "execution_count": null,
      "outputs": []
    },
    {
      "cell_type": "markdown",
      "metadata": {
        "id": "Y0QAG5rShALr",
        "colab_type": "text"
      },
      "source": [
        "8.Program to count the number of lines in a file.\n",
        "\n"
      ]
    },
    {
      "cell_type": "code",
      "metadata": {
        "id": "GEBErbEbhE7e",
        "colab_type": "code",
        "colab": {}
      },
      "source": [
        "f=open(\"assignment.txt\",\"r\")\n",
        "count=0\n",
        "content=f.read()\n",
        "file_list=content.split(\"\\n\")\n",
        "\n",
        "for line in file_list:\n",
        "    if i:\n",
        "        count+=1\n",
        "print(\"Number of lines in the given list:\",count)\n",
        "\n",
        "\n"
      ],
      "execution_count": null,
      "outputs": []
    },
    {
      "cell_type": "markdown",
      "metadata": {
        "id": "wYjzhGoQhTfv",
        "colab_type": "text"
      },
      "source": [
        "9.Program to get the full size of a plain file.\n",
        "\n"
      ]
    },
    {
      "cell_type": "code",
      "metadata": {
        "id": "P2b_S0BnhTyE",
        "colab_type": "code",
        "colab": {}
      },
      "source": [
        "def size(f):\n",
        "        import os\n",
        "        statinfo = os.stat(f)\n",
        "        return statinfo.st_size\n",
        "size_file=size(\"assignment.txt\")\n",
        "print(\"File size in bytes of a plain file:\",size_file"
      ],
      "execution_count": null,
      "outputs": []
    },
    {
      "cell_type": "markdown",
      "metadata": {
        "id": "84KUy5HAhas4",
        "colab_type": "text"
      },
      "source": [
        "10.Program to copy the content of one file to another.\n",
        "\n"
      ]
    },
    {
      "cell_type": "code",
      "metadata": {
        "id": "vRDR14ILhfRA",
        "colab_type": "code",
        "colab": {}
      },
      "source": [
        "with open(\"assignment.txt\") as f:\n",
        "    with open(\"out.txt\", \"w\") as f1:\n",
        "        for line in f:\n",
        "            f1.write(line)"
      ],
      "execution_count": null,
      "outputs": []
    }
  ]
}