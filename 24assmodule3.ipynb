{
  "nbformat": 4,
  "nbformat_minor": 0,
  "metadata": {
    "colab": {
      "name": "24assmodule3.ipynb",
      "provenance": [],
      "authorship_tag": "ABX9TyOut6kcg2HWYXP22TxUijC9",
      "include_colab_link": true
    },
    "kernelspec": {
      "name": "python3",
      "display_name": "Python 3"
    }
  },
  "cells": [
    {
      "cell_type": "markdown",
      "metadata": {
        "id": "view-in-github",
        "colab_type": "text"
      },
      "source": [
        "<a href=\"https://colab.research.google.com/github/Ariefbasha/Democrats-/blob/master/24assmodule3.ipynb\" target=\"_parent\"><img src=\"https://colab.research.google.com/assets/colab-badge.svg\" alt=\"Open In Colab\"/></a>"
      ]
    },
    {
      "cell_type": "code",
      "metadata": {
        "id": "KZUILdjmBD8F",
        "colab_type": "code",
        "colab": {
          "base_uri": "https://localhost:8080/",
          "height": 51
        },
        "outputId": "ba9b3439-4bcb-4982-e4ac-fed239022582"
      },
      "source": [
        "num=int(input(\"Enter the binary value of a number: \"))\n",
        "decimal=0\n",
        "base_value=1\n",
        "temp=num\n",
        "\n",
        "while temp!=0:\n",
        "    last_digit=temp%10\n",
        "    temp=int(temp/10)\n",
        "    decimal+=last_digit*base_value\n",
        "    base_value=base_value*2\n",
        "print(\"The value of the binary number\",num,\"in decimal form is\",decimal)"
      ],
      "execution_count": 1,
      "outputs": [
        {
          "output_type": "stream",
          "text": [
            "Enter the binary value of a number: 99\n",
            "The value of the binary number 99 in decimal form is 27\n"
          ],
          "name": "stdout"
        }
      ]
    },
    {
      "cell_type": "markdown",
      "metadata": {
        "id": "XHFcXyJECD53",
        "colab_type": "text"
      },
      "source": [
        "2. Generate first n Fibonacci series.\n",
        "\n"
      ]
    },
    {
      "cell_type": "code",
      "metadata": {
        "id": "7jG-y5sGCHxY",
        "colab_type": "code",
        "colab": {
          "base_uri": "https://localhost:8080/",
          "height": 119
        },
        "outputId": "733c007c-71a6-41f6-ad3f-aa53b94f8085"
      },
      "source": [
        "\n",
        "n= int(input(\"Enter the value of n: \"))\n",
        "n1, n2 = 0,1 \n",
        "count=0\n",
        "print(\"Fibonacci Sequence upto\",n,\"terms is: \")\n",
        "while count<n:\n",
        "    print(n1)\n",
        "    nth=n1+n2\n",
        "    n1=n2\n",
        "    n2=nth\n",
        "    count+=1"
      ],
      "execution_count": 2,
      "outputs": [
        {
          "output_type": "stream",
          "text": [
            "Enter the value of n: 4\n",
            "Fibonacci Sequence upto 4 terms is: \n",
            "0\n",
            "1\n",
            "1\n",
            "2\n"
          ],
          "name": "stdout"
        }
      ]
    },
    {
      "cell_type": "markdown",
      "metadata": {
        "id": "Xv33UN6mCU46",
        "colab_type": "text"
      },
      "source": [
        "3. Display multiplication table of k. Take k value from user.\n",
        "\n"
      ]
    },
    {
      "cell_type": "code",
      "metadata": {
        "id": "Okb3bdtNCaBy",
        "colab_type": "code",
        "colab": {
          "base_uri": "https://localhost:8080/",
          "height": 221
        },
        "outputId": "cdc1ef80-ae2f-49a7-b10a-d531698e6b7c"
      },
      "source": [
        "k=int(input(\"Enter a number to print the multiplication table: \"))\n",
        "print(\"Multiplication table:\")\n",
        "for i in range(1,11):\n",
        "    print(k,\"*\",i,\"=\",k*i)"
      ],
      "execution_count": 3,
      "outputs": [
        {
          "output_type": "stream",
          "text": [
            "Enter a number to print the multiplication table: 5\n",
            "Multiplication table:\n",
            "5 * 1 = 5\n",
            "5 * 2 = 10\n",
            "5 * 3 = 15\n",
            "5 * 4 = 20\n",
            "5 * 5 = 25\n",
            "5 * 6 = 30\n",
            "5 * 7 = 35\n",
            "5 * 8 = 40\n",
            "5 * 9 = 45\n",
            "5 * 10 = 50\n"
          ],
          "name": "stdout"
        }
      ]
    },
    {
      "cell_type": "markdown",
      "metadata": {
        "id": "lT2Cdi2MCqSM",
        "colab_type": "text"
      },
      "source": [
        "4. Take 10 integers from keyboard using loop and print their average value on the screen Print the following patterns using loop:\n",
        "\n",
        " * \n",
        " ** \n",
        " *** \n",
        " ****"
      ]
    },
    {
      "cell_type": "code",
      "metadata": {
        "id": "LOt8CEYvCyfM",
        "colab_type": "code",
        "colab": {
          "base_uri": "https://localhost:8080/",
          "height": 187
        },
        "outputId": "b8abced8-b6e3-4629-ce4f-497ea7857abc"
      },
      "source": [
        "for num in range(1,11):\n",
        "    num= int(input(\"Enter a value: \"))"
      ],
      "execution_count": 5,
      "outputs": [
        {
          "output_type": "stream",
          "text": [
            "Enter a value: 1\n",
            "Enter a value: 2\n",
            "Enter a value: 3\n",
            "Enter a value: 4\n",
            "Enter a value: 5\n",
            "Enter a value: 6\n",
            "Enter a value: 7\n",
            "Enter a value: 8\n",
            "Enter a value: 9\n",
            "Enter a value: 10\n"
          ],
          "name": "stdout"
        }
      ]
    },
    {
      "cell_type": "markdown",
      "metadata": {
        "id": "rh2iZ3iCDJzC",
        "colab_type": "text"
      },
      "source": [
        "pattern print"
      ]
    },
    {
      "cell_type": "code",
      "metadata": {
        "id": "ZKuwiw7vDQI7",
        "colab_type": "code",
        "colab": {
          "base_uri": "https://localhost:8080/",
          "height": 85
        },
        "outputId": "0678ffd1-7ad7-4e20-87c7-6d6e180ad03c"
      },
      "source": [
        "rows = 4\n",
        "for row in range(1, rows+1):\n",
        "    for column in range(1, row + 1):\n",
        "        print(\"*\", end=\"\")\n",
        "    print(\"\")"
      ],
      "execution_count": 6,
      "outputs": [
        {
          "output_type": "stream",
          "text": [
            "*\n",
            "**\n",
            "***\n",
            "****\n"
          ],
          "name": "stdout"
        }
      ]
    },
    {
      "cell_type": "markdown",
      "metadata": {
        "id": "OpBb3mjPDYZt",
        "colab_type": "text"
      },
      "source": [
        "5. Program to find the GCD of two numbers.\n",
        "\n"
      ]
    },
    {
      "cell_type": "code",
      "metadata": {
        "id": "Zu2SKAwsDkX4",
        "colab_type": "code",
        "colab": {
          "base_uri": "https://localhost:8080/",
          "height": 68
        },
        "outputId": "bb0e87bd-241d-4971-a2c0-165cc97eefda"
      },
      "source": [
        "import math\n",
        "n1= int(input(\"Enter number 1: \"))\n",
        "n2= int(input(\"Enter number 2: \"))\n",
        "print(math.gcd(n1,n2),\"is the GCD of\",n1,\"and\",n2)"
      ],
      "execution_count": 7,
      "outputs": [
        {
          "output_type": "stream",
          "text": [
            "Enter number 1: 3\n",
            "Enter number 2: 4\n",
            "1 is the GCD of 3 and 4\n"
          ],
          "name": "stdout"
        }
      ]
    },
    {
      "cell_type": "markdown",
      "metadata": {
        "id": "XXJnLbTpDqYA",
        "colab_type": "text"
      },
      "source": [
        "6. Program that accepts a word from the user and reverses it.\n",
        "\n"
      ]
    },
    {
      "cell_type": "code",
      "metadata": {
        "id": "2JOPQJY4Dt8m",
        "colab_type": "code",
        "colab": {
          "base_uri": "https://localhost:8080/",
          "height": 51
        },
        "outputId": "00b74d9c-35fd-4195-dc02-071432717982"
      },
      "source": [
        "word=input(\"Enter a word: \")\n",
        "reverse= word[::-1]\n",
        "print(\"Reverse of\",word,\"is\",reverse)\n"
      ],
      "execution_count": 8,
      "outputs": [
        {
          "output_type": "stream",
          "text": [
            "Enter a word: reverse\n",
            "Reverse of reverse is esrever\n"
          ],
          "name": "stdout"
        }
      ]
    },
    {
      "cell_type": "markdown",
      "metadata": {
        "id": "Ai9Xg0TBD34E",
        "colab_type": "text"
      },
      "source": [
        "7. Program to count the number of even and odd numbers from a series of numbers.\n",
        "\n"
      ]
    },
    {
      "cell_type": "code",
      "metadata": {
        "id": "sHWuJz6_D706",
        "colab_type": "code",
        "colab": {
          "base_uri": "https://localhost:8080/",
          "height": 85
        },
        "outputId": "b2619362-2d7c-4fac-cef6-e1d8d0cee331"
      },
      "source": [
        "start=int(input(\"Enter the starting number of the sequence: \"))\n",
        "end=int(input(\"Enter the ending number of the sequence: \"))\n",
        "count_even=0\n",
        "count_odd=0\n",
        "for num in range(start,end+1):\n",
        "    if num%2==0:\n",
        "        count_even+=1\n",
        "    else:\n",
        "        count_odd+=1\n",
        "print(\"The number of even numbers:\",count_even)\n",
        "print(\"The number of odd numbers\",count_odd)\n"
      ],
      "execution_count": 9,
      "outputs": [
        {
          "output_type": "stream",
          "text": [
            "Enter the starting number of the sequence: 0\n",
            "Enter the ending number of the sequence: 30\n",
            "The number of even numbers: 16\n",
            "The number of odd numbers 15\n"
          ],
          "name": "stdout"
        }
      ]
    },
    {
      "cell_type": "markdown",
      "metadata": {
        "id": "xLK_KOIkEJVs",
        "colab_type": "text"
      },
      "source": [
        "8. Program that prints all numbers from 0 to 6 except 3 and 6.\n",
        "\n"
      ]
    },
    {
      "cell_type": "code",
      "metadata": {
        "id": "rTMHfwF9EQ5g",
        "colab_type": "code",
        "colab": {
          "base_uri": "https://localhost:8080/",
          "height": 102
        },
        "outputId": "020babbb-e55c-4390-8992-375f24d31e31"
      },
      "source": [
        "\n",
        "for num in range(0,6):\n",
        "    if num==3:\n",
        "        continue\n",
        "    print(num)"
      ],
      "execution_count": 10,
      "outputs": [
        {
          "output_type": "stream",
          "text": [
            "0\n",
            "1\n",
            "2\n",
            "4\n",
            "5\n"
          ],
          "name": "stdout"
        }
      ]
    }
  ]
}