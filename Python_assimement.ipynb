{
  "nbformat": 4,
  "nbformat_minor": 0,
  "metadata": {
    "colab": {
      "name": "Python assimement ",
      "provenance": [],
      "authorship_tag": "ABX9TyN+/1iT9A8B+S8/FfwhR84y",
      "include_colab_link": true
    },
    "kernelspec": {
      "name": "python3",
      "display_name": "Python 3"
    }
  },
  "cells": [
    {
      "cell_type": "markdown",
      "metadata": {
        "id": "view-in-github",
        "colab_type": "text"
      },
      "source": [
        "<a href=\"https://colab.research.google.com/github/Ariefbasha/Democrats-/blob/master/Python_assimement.ipynb\" target=\"_parent\"><img src=\"https://colab.research.google.com/assets/colab-badge.svg\" alt=\"Open In Colab\"/></a>"
      ]
    },
    {
      "cell_type": "code",
      "metadata": {
        "id": "lZ7u_hNWrjC8",
        "colab_type": "code",
        "colab": {
          "base_uri": "https://localhost:8080/",
          "height": 193
        },
        "outputId": "6ee88bc9-fe8f-43e4-a260-c13771451a4d"
      },
      "source": [
        " \n",
        "a=int(input('Enter the First value:'))\n",
        "b=int(input('Enter the second value:'))\n",
        "print('The Sum is:',a+b )\n",
        "print('The Diff is:',a-b)\n",
        "print('The Product is:',a*b)\n",
        "print('The Divided is:',a/b)\n",
        "print('The Remainder is:',a%b)\n",
        "print('The Power is:',a**b)\n",
        "print('The Quotients is:',a//b)"
      ],
      "execution_count": null,
      "outputs": [
        {
          "output_type": "stream",
          "text": [
            "Enter the First value:2\n",
            "Enter the second value:3\n",
            "The Sum is: 5\n",
            "The Diff is: -1\n",
            "The Product is: 6\n",
            "The Divided is: 0.6666666666666666\n",
            "The Remainder is: 2\n",
            "The Power is: 8\n",
            "The Quotients is: 0\n"
          ],
          "name": "stdout"
        }
      ]
    },
    {
      "cell_type": "code",
      "metadata": {
        "id": "PQD7X-cFr0jh",
        "colab_type": "code",
        "colab": {
          "base_uri": "https://localhost:8080/",
          "height": 86
        },
        "outputId": "f4f8c7ab-8055-4a79-8fd5-cc10b2b4a62b"
      },
      "source": [
        " \n",
        "p=float(input('Enter the principle Amount:'))\n",
        "t=float(input('Enter the Time period:'))\n",
        "r=float(input('Enter the Rate:'))\n",
        "SI=((p*t*r)/100)\n",
        "print(\"The Simple Intrest is:\",SI)"
      ],
      "execution_count": null,
      "outputs": [
        {
          "output_type": "stream",
          "text": [
            "Enter the principle Amount:15000\n",
            "Enter the Time period:1\n",
            "Enter the Rate:1.5\n",
            "The Simple Intrest is: 225.0\n"
          ],
          "name": "stdout"
        }
      ]
    },
    {
      "cell_type": "code",
      "metadata": {
        "id": "VU5kuaynsBhR",
        "colab_type": "code",
        "colab": {
          "base_uri": "https://localhost:8080/",
          "height": 51
        },
        "outputId": "00f814e9-371f-4a1f-8e39-39901cdb39b3"
      },
      "source": [
        " \n",
        "pi=3.142\n",
        "r=float(input('Enter the Radius:'))\n",
        "Area=pi*r*r\n",
        "print(\"The Area of the Circle is:\",Area)"
      ],
      "execution_count": null,
      "outputs": [
        {
          "output_type": "stream",
          "text": [
            "Enter the Radius:5\n",
            "The Area of the Circle is: 78.55\n"
          ],
          "name": "stdout"
        }
      ]
    },
    {
      "cell_type": "code",
      "metadata": {
        "id": "iNw-3FyjsJEq",
        "colab_type": "code",
        "colab": {
          "base_uri": "https://localhost:8080/",
          "height": 106
        },
        "outputId": "41646f6a-d636-405a-9b39-07c0e80952bc"
      },
      "source": [
        " \n",
        "a=float(input('Enter the First side:'))\n",
        "b=float(input('Enter the Second side:'))\n",
        "c=float(input('Enter the Third side:'))\n",
        "s = (a + b + c) / 2\n",
        "area = (s*(s-a)*(s-b)*(s-c)) ** (0.5)\n",
        "print(\"The area of the Triangle is:\",area)"
      ],
      "execution_count": null,
      "outputs": [
        {
          "output_type": "stream",
          "text": [
            "Enter the First side:2\n",
            "Enter the Second side:3\n",
            "Enter the Third side:4\n",
            "The area of the Triangle is: 2.9047375096555625\n"
          ],
          "name": "stdout"
        }
      ]
    },
    {
      "cell_type": "code",
      "metadata": {
        "id": "p-s8836isQYZ",
        "colab_type": "code",
        "colab": {
          "base_uri": "https://localhost:8080/",
          "height": 51
        },
        "outputId": "156d31c1-da61-4a80-99a3-a5b0f5de8c18"
      },
      "source": [
        " \n",
        "celsius = float(input('Enter temperature in Celsius:'))\n",
        "fahrenheit=(celsius*1.8)+32\n",
        "print(\"The Fahrenheit is:\",fahrenheit)"
      ],
      "execution_count": null,
      "outputs": [
        {
          "output_type": "stream",
          "text": [
            "Enter temperature in Celsius:25\n",
            "The Fahrenheit is: 77.0\n"
          ],
          "name": "stdout"
        }
      ]
    },
    {
      "cell_type": "code",
      "metadata": {
        "id": "3JheKxSDsXKK",
        "colab_type": "code",
        "colab": {
          "base_uri": "https://localhost:8080/",
          "height": 69
        },
        "outputId": "9840116c-4bd2-4a56-d094-47aac474d66e"
      },
      "source": [
        " \n",
        "length=int(input('Enter the length of Rectangle:'))\n",
        "breadth=int(input('Enter the breadth of Rectangle:'))\n",
        "Area=length*breadth\n",
        "print(\"The Area of a Rectangle is:\",Area)"
      ],
      "execution_count": null,
      "outputs": [
        {
          "output_type": "stream",
          "text": [
            "Enter the length of Rectangle:4\n",
            "Enter the breadth of Rectangle:2\n",
            "The Area of a Rectangle is: 8\n"
          ],
          "name": "stdout"
        }
      ]
    },
    {
      "cell_type": "code",
      "metadata": {
        "id": "CTd6W3PMsicH",
        "colab_type": "code",
        "colab": {
          "base_uri": "https://localhost:8080/",
          "height": 51
        },
        "outputId": "34c857cb-4bcd-4024-e4ba-131606b1d405"
      },
      "source": [
        " \n",
        "side=int(input('Enter the side of the square:'))\n",
        "perimeter=4*side\n",
        "print(\"The perimeter of Square is:\",perimeter)"
      ],
      "execution_count": null,
      "outputs": [
        {
          "output_type": "stream",
          "text": [
            "Enter the side of the square:3\n",
            "The perimeter of Square is: 12\n"
          ],
          "name": "stdout"
        }
      ]
    },
    {
      "cell_type": "code",
      "metadata": {
        "id": "u_dAVDKcvtVP",
        "colab_type": "code",
        "colab": {
          "base_uri": "https://localhost:8080/",
          "height": 71
        },
        "outputId": "1c808510-fb20-446e-e99a-1bab8dc51b6b"
      },
      "source": [
        " \n",
        "pi=3.14\n",
        "radius=float(input('Enter the Radius:'))\n",
        "Circumference=2*pi*radius\n",
        "print(\"The Circumference of the circle is:\",Circumference)"
      ],
      "execution_count": null,
      "outputs": [
        {
          "output_type": "stream",
          "text": [
            "Enter the Radius:3\n",
            "The Circumference of the circle is: 18.84\n"
          ],
          "name": "stdout"
        }
      ]
    }
  ]
}