{
  "nbformat": 4,
  "nbformat_minor": 0,
  "metadata": {
    "colab": {
      "name": "DSP LAB PROGRAM",
      "provenance": [],
      "authorship_tag": "ABX9TyOH2ePn+TUByvzAQIpfSaW3",
      "include_colab_link": true
    },
    "kernelspec": {
      "name": "python3",
      "display_name": "Python 3"
    }
  },
  "cells": [
    {
      "cell_type": "markdown",
      "metadata": {
        "id": "view-in-github",
        "colab_type": "text"
      },
      "source": [
        "<a href=\"https://colab.research.google.com/github/Ariefbasha/Democrats-/blob/master/DSP_LAB_PROGRAM.ipynb\" target=\"_parent\"><img src=\"https://colab.research.google.com/assets/colab-badge.svg\" alt=\"Open In Colab\"/></a>"
      ]
    },
    {
      "cell_type": "markdown",
      "metadata": {
        "id": "zdJ8RY9bC4nF"
      },
      "source": [
        " 1.a. Find min of three no"
      ]
    },
    {
      "cell_type": "code",
      "metadata": {
        "colab": {
          "base_uri": "https://localhost:8080/"
        },
        "id": "YcdvL24DC7xk",
        "outputId": "ed045e4a-50bc-4168-ab22-38b548b950b3"
      },
      "source": [
        " \n",
        "a=int(input(\"Enter the first number \"))\n",
        "b=int(input(\"Enter the second number \"))\n",
        "c=int(input(\"Enter the third number \"))\n",
        "if a<b:\n",
        "    if b<c:\n",
        "        print(a,\" is the minimum number\")\n",
        "    else:\n",
        "        print(c,\" is the minimum number\")\n",
        "else:\n",
        "    if b<c:\n",
        "        print(b,\" is the minimum number\")\n",
        "    else:\n",
        "        print(c,\" is the minimum number\")"
      ],
      "execution_count": null,
      "outputs": [
        {
          "output_type": "stream",
          "text": [
            "Enter the first number 1\n",
            "Enter the second number 5\n",
            "Enter the third number 0\n",
            "0  is the minimum number\n"
          ],
          "name": "stdout"
        }
      ]
    },
    {
      "cell_type": "markdown",
      "metadata": {
        "id": "2ZdccQbLDI_k"
      },
      "source": [
        " b. Twin prime no"
      ]
    },
    {
      "cell_type": "code",
      "metadata": {
        "colab": {
          "base_uri": "https://localhost:8080/"
        },
        "id": "bhWUjy0sDL4Q",
        "outputId": "45639afc-1916-4a7a-ca9f-acad7224554b"
      },
      "source": [
        " \n",
        "def prime(n):\n",
        "    for i in range(2, n):\n",
        "        if n % i == 0:\n",
        "            return False\n",
        "    return True\n",
        " \n",
        "def twin_prime(start, end):\n",
        "    for i in range(start, end):\n",
        "        j= i + 2\n",
        "        if (prime(i) and prime(j)):\n",
        "            print (\"{:d} and {:d}\".format(i, j))\n",
        " \n",
        "twin_prime(2, 250)"
      ],
      "execution_count": null,
      "outputs": [
        {
          "output_type": "stream",
          "text": [
            "3 and 5\n",
            "5 and 7\n",
            "11 and 13\n",
            "17 and 19\n",
            "29 and 31\n",
            "41 and 43\n",
            "59 and 61\n",
            "71 and 73\n",
            "101 and 103\n",
            "107 and 109\n",
            "137 and 139\n",
            "149 and 151\n",
            "179 and 181\n",
            "191 and 193\n",
            "197 and 199\n",
            "227 and 229\n",
            "239 and 241\n"
          ],
          "name": "stdout"
        }
      ]
    },
    {
      "cell_type": "markdown",
      "metadata": {
        "id": "0yq46BWXFNsZ"
      },
      "source": [
        " c. Prime no"
      ]
    },
    {
      "cell_type": "code",
      "metadata": {
        "colab": {
          "base_uri": "https://localhost:8080/"
        },
        "id": "L3w_aA3IFZKL",
        "outputId": "1b8d8646-95e3-4bf2-adb0-92b99885da62"
      },
      "source": [
        " \n",
        "n1 = int(input(\"Enter the first number \"))\n",
        "n2 = int(input(\"Enter the last number \"))\n",
        " \n",
        "for n in range(n1, n2+1):  \n",
        "    if n > 1:\n",
        "        for i in range(2,n):\n",
        "            if (n % i == 0):\n",
        "                break  \n",
        "        else:  \n",
        "            print(n)"
      ],
      "execution_count": null,
      "outputs": [
        {
          "output_type": "stream",
          "text": [
            "Enter the first number 1\n",
            "Enter the last number 10\n",
            "2\n",
            "3\n",
            "5\n",
            "7\n"
          ],
          "name": "stdout"
        }
      ]
    },
    {
      "cell_type": "markdown",
      "metadata": {
        "id": "8TeTT2R9FhbD"
      },
      "source": [
        " d. ARMSTRONG NO."
      ]
    },
    {
      "cell_type": "code",
      "metadata": {
        "id": "j1-c1UPsFuK3"
      },
      "source": [
        " \n",
        "import math \n",
        "n1 = int(input(\"Enter your first number \"))\n",
        "n2 = int(input(\"Enter your second number \"))\n",
        "print(\"The armstrong numbers form the interval are \")\n",
        "if n1 < n2:\n",
        "    for i in range(n1,n2+1):\n",
        "        sum = 0\n",
        "        temp = i\n",
        "        \n",
        "        while temp != 0:\n",
        "            last = temp%10\n",
        "            sum = sum + math.pow(last,3)\n",
        "            temp = temp//10\n",
        "        if sum==i:\n",
        "            print(i)"
      ],
      "execution_count": null,
      "outputs": []
    },
    {
      "cell_type": "markdown",
      "metadata": {
        "id": "LztdpbL4F4Qn"
      },
      "source": [
        " e.perfect no"
      ]
    },
    {
      "cell_type": "code",
      "metadata": {
        "colab": {
          "base_uri": "https://localhost:8080/"
        },
        "id": "B2y6MqXKF8nz",
        "outputId": "da811784-a51e-4b3c-a721-453277d62fdb"
      },
      "source": [
        " \n",
        "n=int(input(\"enter any number:\"))\n",
        "sum=0\n",
        "for i in range(1,n):\n",
        "    if(n%i==0):\n",
        "       sum=sum+i\n",
        "if(sum==n):\n",
        "    print(\"the number\",sum,\" is a perfect number\")\n",
        "else:\n",
        "    print(\"the number is not a perfect number\")"
      ],
      "execution_count": null,
      "outputs": [
        {
          "output_type": "stream",
          "text": [
            "enter any number:5\n",
            "the number is not a perfect number\n"
          ],
          "name": "stdout"
        }
      ]
    },
    {
      "cell_type": "markdown",
      "metadata": {
        "id": "mWP4Lg2zGCQ6"
      },
      "source": [
        " f. Swapping  of two no's"
      ]
    },
    {
      "cell_type": "code",
      "metadata": {
        "colab": {
          "base_uri": "https://localhost:8080/"
        },
        "id": "AvLsbvRhGJcV",
        "outputId": "dc4c9253-d6ae-4622-e972-201efec9df28"
      },
      "source": [
        " \n",
        "a=int(input(\"enter number:\"))\n",
        "b=int(input(\"enter number:\"))\n",
        "print(\"before swap the values of a and b are:\",a,b)\n",
        "a,b=b,a\n",
        "print(\"after swap the values of a and b are:\",a,b)"
      ],
      "execution_count": null,
      "outputs": [
        {
          "output_type": "stream",
          "text": [
            "enter number:1\n",
            "enter number:5\n",
            "before swap the values of a and b are: 1 5\n",
            "after swap the values of a and b are: 5 1\n"
          ],
          "name": "stdout"
        }
      ]
    },
    {
      "cell_type": "markdown",
      "metadata": {
        "id": "8CrD-2wlGRvB"
      },
      "source": [
        "g. Arithmetic operators"
      ]
    },
    {
      "cell_type": "code",
      "metadata": {
        "colab": {
          "base_uri": "https://localhost:8080/"
        },
        "id": "zF_jQO2yGdw4",
        "outputId": "5290ff03-9469-4fd0-9000-c483c298dca6"
      },
      "source": [
        " \n",
        "a=int(input(\"enter a number:\"))\n",
        "b=int(input(\"enter a number:\"))\n",
        "print(\"performing arithmatic operators\")\n",
        "sum=a+b\n",
        "print(\"sum is\",sum)\n",
        "sub=a-b\n",
        "print(\"subtract is\",sub)\n",
        "mul=a*b\n",
        "print(\"multiplication is\",mul)\n",
        "div=a/b\n",
        "print(\"dividion is\",div)\n",
        "mod=a%b\n",
        "print(\"mod is\",mod)\n",
        "floordivision=a//b\n",
        "print(\"floor division is\",floordivision)"
      ],
      "execution_count": null,
      "outputs": [
        {
          "output_type": "stream",
          "text": [
            "enter a number:5\n",
            "enter a number:4\n",
            "performing arithmatic operators\n",
            "sum is 9\n",
            "subtract is 1\n",
            "multiplication is 20\n",
            "dividion is 1.25\n",
            "mod is 1\n",
            "floor division is 1\n"
          ],
          "name": "stdout"
        }
      ]
    },
    {
      "cell_type": "markdown",
      "metadata": {
        "id": "Mi4XFPNEGuFV"
      },
      "source": [
        "2.a.copy"
      ]
    },
    {
      "cell_type": "code",
      "metadata": {
        "colab": {
          "base_uri": "https://localhost:8080/"
        },
        "id": "d4fM9-CtGwii",
        "outputId": "831d7955-3d44-484b-c8cb-bd5aa69b3b86"
      },
      "source": [
        " \n",
        "import array as arr\n",
        "source = arr.array('i', [10, 20, 30, 40])\n",
        "dest = arr.array('i', [])\n",
        " \n",
        "for index in range(0, len(source)):\n",
        "    dest.insert(index, source[index])\n",
        "    \n",
        "for i in dest:\n",
        "    print(i, end=\" \")\n",
        "print(type(dest))"
      ],
      "execution_count": null,
      "outputs": [
        {
          "output_type": "stream",
          "text": [
            "10 20 30 40 <class 'array.array'>\n"
          ],
          "name": "stdout"
        }
      ]
    },
    {
      "cell_type": "markdown",
      "metadata": {
        "id": "X2KzfpCiG35O"
      },
      "source": [
        "b.Reverse copy"
      ]
    },
    {
      "cell_type": "code",
      "metadata": {
        "colab": {
          "base_uri": "https://localhost:8080/"
        },
        "id": "ub2m3nXfG9eX",
        "outputId": "e21bb798-efed-4dc2-87d6-4a41e80a5318"
      },
      "source": [
        " \n",
        "import array as arr\n",
        "source = arr.array('i', [10, 20, 30, 40])\n",
        "dest = arr.array('i', [])\n",
        " \n",
        "for index in range(0, len(source)):\n",
        "    dest.insert(index, source[index])\n",
        "    \n",
        "for i in dest:\n",
        "    print(i, end=\" \")\n",
        "print(type(dest))\n",
        "print(\"The reverse of the array: \")\n",
        "for i in range(len(source)-1, -1, -1):\n",
        "    dest.insert(index, source[index])\n",
        "    print(dest[i], end=\" \")"
      ],
      "execution_count": null,
      "outputs": [
        {
          "output_type": "stream",
          "text": [
            "10 20 30 40 <class 'array.array'>\n",
            "The reverse of the array: \n",
            "40 30 20 10 "
          ],
          "name": "stdout"
        }
      ]
    },
    {
      "cell_type": "markdown",
      "metadata": {
        "id": "GRos1tTKHA73"
      },
      "source": [
        " c. delete duplicate"
      ]
    },
    {
      "cell_type": "code",
      "metadata": {
        "colab": {
          "base_uri": "https://localhost:8080/"
        },
        "id": "C_BrWlsTHKWL",
        "outputId": "c99453de-b63e-4533-8764-3e24784584cd"
      },
      "source": [
        " \n",
        "import array as arr\n",
        "def delete_duplicate(array1):\n",
        "    array2 = arr.array(\"i\", [])\n",
        "    for num in array1: \n",
        "        if num not in array2: \n",
        "            array2.append(num) \n",
        "    print(\"\\nArray after deleting the duplicate elements is:\")\n",
        "    for i in array2:\n",
        "        print(i, end = \", \")\n",
        " \n",
        "delete_duplicate(arr.array('i', [1,2,4,5,2,3,7,3,8,2,9]))"
      ],
      "execution_count": null,
      "outputs": [
        {
          "output_type": "stream",
          "text": [
            "\n",
            "Array after deleting the duplicate elements is:\n",
            "1, 2, 4, 5, 3, 7, 8, 9, "
          ],
          "name": "stdout"
        }
      ]
    },
    {
      "cell_type": "markdown",
      "metadata": {
        "id": "XET90dIeJ41z"
      },
      "source": [
        "3.a.sparese matrix"
      ]
    },
    {
      "cell_type": "code",
      "metadata": {
        "colab": {
          "base_uri": "https://localhost:8080/"
        },
        "id": "8pgLWDQxKI0h",
        "outputId": "d671585e-fa31-4122-94ee-c48b754372ef"
      },
      "source": [
        " \n",
        "import numpy as np \n",
        "from scipy.sparse import csr_matrix \n",
        "  \n",
        "# Creating a 3 * 4 sparse matrix \n",
        "sparseMatrix = csr_matrix((3, 4),  \n",
        "                          dtype = np.int8).toarray() \n",
        "  \n",
        "# Print the sparse matrix \n",
        "print(sparseMatrix)"
      ],
      "execution_count": null,
      "outputs": [
        {
          "output_type": "stream",
          "text": [
            "[[0 0 0 0]\n",
            " [0 0 0 0]\n",
            " [0 0 0 0]]\n"
          ],
          "name": "stdout"
        }
      ]
    },
    {
      "cell_type": "markdown",
      "metadata": {
        "id": "RaEowTAzKOmW"
      },
      "source": [
        "b.spares matrix addition"
      ]
    },
    {
      "cell_type": "code",
      "metadata": {
        "colab": {
          "base_uri": "https://localhost:8080/"
        },
        "id": "tRiK50enKYy7",
        "outputId": "ae358729-0011-42a3-cd42-587813025e1a"
      },
      "source": [
        " \n",
        "m1=[[1,0,3],\n",
        "     [0,5,6],\n",
        "     [7,0,0]]\n",
        "m2=[[0,5,1],\n",
        "    [0,0,8],\n",
        "    [0,2,6]]     \n",
        "result=[[0,0,0],\n",
        "    [0,0,0],\n",
        "    [0,0,0]] \n",
        "for i in range(len(m1)):\n",
        "  for j in range(len(m2)):\n",
        "    for k in range(len(m2)):\n",
        "      result[i][j] = m1[i][j]+m2[i][j]\n",
        "print(\"The resultant matrix \")\n",
        "for r in result:\n",
        "  print(r)"
      ],
      "execution_count": null,
      "outputs": [
        {
          "output_type": "stream",
          "text": [
            "The resultant matrix \n",
            "[1, 5, 4]\n",
            "[0, 5, 14]\n",
            "[7, 2, 6]\n"
          ],
          "name": "stdout"
        }
      ]
    },
    {
      "cell_type": "markdown",
      "metadata": {
        "id": "caHRdmHUKba-"
      },
      "source": [
        "c. Spares matrix transpose"
      ]
    },
    {
      "cell_type": "code",
      "metadata": {
        "colab": {
          "base_uri": "https://localhost:8080/"
        },
        "id": "ZbwiwBckKjhO",
        "outputId": "47ebb4c8-1009-4843-db82-d9abfd411c15"
      },
      "source": [
        " \n",
        "N=4\n",
        "def transpose(A,B): \n",
        "  \n",
        "    for i in range(N): \n",
        "        for j in range(N): \n",
        "            B[i][j] = A[j][i] \n",
        " \n",
        "A = [ [1, 1, 1, 1], \n",
        "    [2, 2, 2, 2], \n",
        "    [3, 3, 3, 3], \n",
        "    [4, 4, 4, 4]] \n",
        "   \n",
        "   \n",
        "B = A[:][:] \n",
        "  \n",
        "transpose(A, B) \n",
        "   \n",
        "print(\"Result matrix is\") \n",
        "for i in range(N): \n",
        "    for j in range(N): \n",
        "        print(B[i][j], \" \", end='') \n",
        "    print()"
      ],
      "execution_count": null,
      "outputs": [
        {
          "output_type": "stream",
          "text": [
            "Result matrix is\n",
            "1  2  3  4  \n",
            "2  2  3  4  \n",
            "3  3  3  4  \n",
            "4  4  4  4  \n"
          ],
          "name": "stdout"
        }
      ]
    },
    {
      "cell_type": "markdown",
      "metadata": {
        "id": "NUXA6hQpKswQ"
      },
      "source": [
        " 4. Linear search"
      ]
    },
    {
      "cell_type": "code",
      "metadata": {
        "colab": {
          "base_uri": "https://localhost:8080/"
        },
        "id": "f-ZUe6ZOKy5t",
        "outputId": "e92d9d83-f371-4bde-a298-8b11d241aed9"
      },
      "source": [
        " \n",
        "def linear(alist,key):\n",
        "  for i in range(len(alist)):\n",
        "    if alist[i]==key :\n",
        "      return i \n",
        "  return -1\n",
        " \n",
        " \n",
        "alist = input('Enter the list of numbers :')\n",
        "alist = alist.split()\n",
        "alist =[int(x) for x in alist]\n",
        "key = int(input('The number to search for :'))\n",
        " \n",
        "index = linear(alist,key)\n",
        "if index<0 :\n",
        "   print('{} was not found '.format(key))\n",
        "else:\n",
        "  print('{} was found at index {}.'.format(key,index))"
      ],
      "execution_count": null,
      "outputs": [
        {
          "output_type": "stream",
          "text": [
            "Enter the list of numbers :4 5 7 8 1 3 6\n",
            "The number to search for :8\n",
            "8 was found at index 3.\n"
          ],
          "name": "stdout"
        }
      ]
    },
    {
      "cell_type": "markdown",
      "metadata": {
        "id": "bUvl-OO-K9K1"
      },
      "source": [
        "15.a selection sort"
      ]
    },
    {
      "cell_type": "code",
      "metadata": {
        "colab": {
          "base_uri": "https://localhost:8080/"
        },
        "id": "kvE-ztYzMeTF",
        "outputId": "dc1fb8bf-7e8d-45d6-f923-96575816bae7"
      },
      "source": [
        " \n",
        "def selection_sort(alist):\n",
        "  for i in range(0,len(alist) - 1):\n",
        "    smallest = i\n",
        "    for j in range(i+1, len(alist)):\n",
        "      if alist[j] < alist[smallest]:\n",
        "        smallest = j\n",
        "    alist[i], alist[smallest] = alist[smallest], alist[i]\n",
        " \n",
        "alist = input(\"Enter the list of numbers: \").split()\n",
        "alist = [int(x) for x in alist]\n",
        "selection_sort(alist)\n",
        "print('Sorted list: ', end='')\n",
        "print(alist)"
      ],
      "execution_count": null,
      "outputs": [
        {
          "output_type": "stream",
          "text": [
            "Enter the list of numbers: 1 5 3 2 4 6 8 9\n",
            "Sorted list: [1, 2, 3, 4, 5, 6, 8, 9]\n"
          ],
          "name": "stdout"
        }
      ]
    },
    {
      "cell_type": "markdown",
      "metadata": {
        "id": "oYc8g54FMtan"
      },
      "source": [
        "b. Merge sort"
      ]
    },
    {
      "cell_type": "code",
      "metadata": {
        "colab": {
          "base_uri": "https://localhost:8080/"
        },
        "id": "vAaKm3ljMzRZ",
        "outputId": "7016bdb5-7e42-443e-c4ae-f1bca7ef4b2a"
      },
      "source": [
        " \n",
        "def merge(arr, l, m, r): \n",
        "    n1 = m - l + 1\n",
        "    n2 = r- m  \n",
        "    L = [0] * (n1) \n",
        "    R = [0] * (n2) \n",
        "    for i in range(0 , n1): \n",
        "       L[i] = arr[l + i] \n",
        "    for j in range(0 , n2): \n",
        "       R[j] = arr[m + 1 + j] \n",
        "    i = 0     \n",
        "    j = 0     \n",
        "    k = l    \n",
        "    while i < n1 and j < n2 : \n",
        "        if L[i] <= R[j]: \n",
        "            arr[k] = L[i] \n",
        "            i += 1\n",
        "        else: \n",
        "            arr[k] = R[j] \n",
        "            j += 1\n",
        "        k += 1   \n",
        " \n",
        "    while i < n1: \n",
        "        arr[k] = L[i] \n",
        "        i += 1\n",
        "        k += 1\n",
        "    while j < n2: \n",
        "        arr[k] = R[j] \n",
        "        j += 1\n",
        "        k += 1\n",
        "def mergeSort(arr,l,r): \n",
        "    if l < r: \n",
        "        m = (l+(r-1))//2      \n",
        "        mergeSort(arr, l, m) \n",
        "        mergeSort(arr, m+1, r) \n",
        "        merge(arr, l, m, r) \n",
        "arr = [0,2, 6 ,4,-3,-9,3,1,9,-2,5] \n",
        "n = len(arr) \n",
        "print (\"Given array is \") \n",
        "for i in range(n): \n",
        "    print (arr[i], end=\" \")\n",
        "mergeSort(arr,0,n-1) \n",
        "print(\"\\n\\nSorted array is\")\n",
        "for i in range(n):\n",
        "  print(arr[i], end=\" \")"
      ],
      "execution_count": null,
      "outputs": [
        {
          "output_type": "stream",
          "text": [
            "Given array is \n",
            "0 2 6 4 -3 -9 3 1 9 -2 5 \n",
            "\n",
            "Sorted array is\n",
            "-9 -3 -2 0 1 2 3 4 5 6 9 "
          ],
          "name": "stdout"
        }
      ]
    },
    {
      "cell_type": "markdown",
      "metadata": {
        "id": "zTwvyG4_NFNe"
      },
      "source": [
        "c.quick sort"
      ]
    },
    {
      "cell_type": "code",
      "metadata": {
        "colab": {
          "base_uri": "https://localhost:8080/"
        },
        "id": "W69huTpzNKlM",
        "outputId": "23898e4d-8ac8-4591-8326-cd39720cb852"
      },
      "source": [
        " \n",
        "def quicksort(alist, start ,end):\n",
        " \n",
        "  if end-start>1:\n",
        "    p = partition(alist,start,end)\n",
        "    quicksort(alist,start,p)\n",
        "    quicksort(alist,p+1,end)\n",
        "  \n",
        "def partition(alist,start,end):\n",
        "  pivot = alist[start]\n",
        "  i = start + 1\n",
        "  j = end - 1\n",
        "  \n",
        "  while True :\n",
        "      while(i <= j and alist[i] <= pivot):\n",
        "        i = i + 1\n",
        "      while(i<=j and alist[j]>=pivot):\n",
        "        j = j - 1\n",
        " \n",
        "      if i <= j:\n",
        "        alist[i], alist[j] = alist[j], alist[i]\n",
        "      else:\n",
        "        alist[start], alist[j] = alist[j], alist[start]\n",
        "        return j\n",
        "      \n",
        "alist = input(\"Enter the list of numbers: \").split()\n",
        "alist = [int(x) for x in alist]\n",
        "quicksort(alist,0,len(alist))\n",
        "print('Sorted list : ',end=' ')\n",
        "print(alist)"
      ],
      "execution_count": null,
      "outputs": [
        {
          "output_type": "stream",
          "text": [
            "Enter the list of numbers: 2 6 4 8 9 1\n",
            "Sorted list :  [1, 2, 4, 6, 8, 9]\n"
          ],
          "name": "stdout"
        }
      ]
    },
    {
      "cell_type": "markdown",
      "metadata": {
        "id": "kqU2VO_-OQLi"
      },
      "source": [
        "d. Bubble sort"
      ]
    },
    {
      "cell_type": "code",
      "metadata": {
        "colab": {
          "base_uri": "https://localhost:8080/"
        },
        "id": "xe-NYEDROQb8",
        "outputId": "14c0d386-68c1-4b83-f27e-5747d4687ca4"
      },
      "source": [
        " \n",
        "def bubbleSort(arr): \n",
        "    n = len(arr) \n",
        "  \n",
        "  \n",
        "    for i in range(n-1): \n",
        "    # range(n) also work but outer loop will repeat one time more than needed. \n",
        "  \n",
        "        # Last i elements are already in place \n",
        "        for j in range(0, n-i-1): \n",
        "  \n",
        "            # traverse the array from 0 to n-i-1 \n",
        "            # Swap if the element found is greater \n",
        "            # than the next element \n",
        "            if arr[j] > arr[j+1] : \n",
        "                arr[j], arr[j+1] = arr[j+1], arr[j] \n",
        "  \n",
        " \n",
        "arr = [54, 44, 35, 12, 22, 11, 80] \n",
        "  \n",
        "bubbleSort(arr) \n",
        "  \n",
        "print (\"Sorted array is:\") \n",
        "for i in range(len(arr)): \n",
        "    print (\"%d\" %arr[i]),"
      ],
      "execution_count": null,
      "outputs": [
        {
          "output_type": "stream",
          "text": [
            "Sorted array is:\n",
            "11\n",
            "12\n",
            "22\n",
            "35\n",
            "44\n",
            "54\n",
            "80\n"
          ],
          "name": "stdout"
        }
      ]
    },
    {
      "cell_type": "markdown",
      "metadata": {
        "id": "WFuT_Sh_OeTv"
      },
      "source": [
        "e. Insertion sort"
      ]
    },
    {
      "cell_type": "code",
      "metadata": {
        "colab": {
          "base_uri": "https://localhost:8080/"
        },
        "id": "Xh-9xaqmOyuK",
        "outputId": "f3e450c1-7369-45c4-e652-6fa4af542cf4"
      },
      "source": [
        "def insertionSort(arr): \n",
        " \n",
        "  \n",
        " \n",
        "    for i in range(1, len(arr)): \n",
        " \n",
        "  \n",
        " \n",
        "        key = arr[i] \n",
        " \n",
        "  \n",
        " \n",
        "        \n",
        " \n",
        "        j = i-1\n",
        " \n",
        "        while j >=0 and key < arr[j] : \n",
        " \n",
        "                arr[j+1] = arr[j] \n",
        " \n",
        "                j -= 1\n",
        " \n",
        "        arr[j+1] = key \n",
        " \n",
        "  \n",
        " \n",
        "  \n",
        " \n",
        " \n",
        "arr = [12, 11, 13, 5, 6] \n",
        "insertionSort(arr) \n",
        " \n",
        "print (\"Sorted array is:\") \n",
        " \n",
        "for i in range(len(arr)): \n",
        " \n",
        "    print (\"%d\" %arr[i])"
      ],
      "execution_count": null,
      "outputs": [
        {
          "output_type": "stream",
          "text": [
            "Sorted array is:\n",
            "5\n",
            "6\n",
            "11\n",
            "12\n",
            "13\n"
          ],
          "name": "stdout"
        }
      ]
    },
    {
      "cell_type": "markdown",
      "metadata": {
        "id": "EV4gCP0lVrg0"
      },
      "source": [
        " 12.binary search"
      ]
    },
    {
      "cell_type": "code",
      "metadata": {
        "colab": {
          "base_uri": "https://localhost:8080/"
        },
        "id": "hcL8by14VgWD",
        "outputId": "00ef2489-db63-47fb-90e4-a61a9308da77"
      },
      "source": [
        " \n",
        "def binary_search(list1, n):  \n",
        "    low = 0  \n",
        "    high = len(list1) - 1  \n",
        "    mid = 0  \n",
        "  \n",
        "    while low <= high:  \n",
        "        # for get integer result   \n",
        "        mid = (high + low) // 2  \n",
        "  \n",
        "        # Check if n is present at mid   \n",
        "        if list1[mid] < n:  \n",
        "            low = mid + 1  \n",
        "  \n",
        "        # If n is greater, compare to the right of mid   \n",
        "        elif list1[mid] > n:  \n",
        "            high = mid - 1  \n",
        "  \n",
        "        # If n is smaller, compared to the left of mid  \n",
        "        else:  \n",
        "            return mid  \n",
        "  \n",
        "            # element was not present in the list, return -1  \n",
        "    return -1  \n",
        "  \n",
        "  \n",
        "# Initial list1  \n",
        "list1 = [12, 24, 32, 39, 45, 50, 54]  \n",
        "n = 45  \n",
        "  \n",
        "# Function call   \n",
        "result = binary_search(list1, n)  \n",
        "  \n",
        "if result != -1:  \n",
        "    print(\"Element is present at index\", str(result))  \n",
        "else:  \n",
        "    print(\"Element is not present in list1\")"
      ],
      "execution_count": null,
      "outputs": [
        {
          "output_type": "stream",
          "text": [
            "Element is present at index 4\n"
          ],
          "name": "stdout"
        }
      ]
    },
    {
      "cell_type": "markdown",
      "metadata": {
        "id": "RqvOCbAUVwqd"
      },
      "source": [
        " 9. infix expression into postfix"
      ]
    },
    {
      "cell_type": "code",
      "metadata": {
        "id": "gu3Y6OCyWB33",
        "colab": {
          "base_uri": "https://localhost:8080/"
        },
        "outputId": "4ddfa23f-cb79-411d-c6d5-899472acd963"
      },
      "source": [
        " \n",
        "class infix_to_postfix:\n",
        "    precedence={'^':5,'*':4,'/':4,'+':3,'-':3,'(':2,')':1}\n",
        "    def __init__(self):\n",
        "        self.items=[]\n",
        "        self.size=-1\n",
        "    def push(self,value):\n",
        "        self.items.append(value)\n",
        "        self.size+=1\n",
        "    def pop(self):\n",
        "        if self.isempty():\n",
        "            return 0\n",
        "        else:\n",
        "            self.size-=1\n",
        "            return self.items.pop()\n",
        "    def isempty(self):\n",
        "        if(self.size==-1):\n",
        "            return True\n",
        "        else:\n",
        "            return False\n",
        "    def seek(self):\n",
        "        if self.isempty():\n",
        "            return false\n",
        "        else:\n",
        "            return self.items[self.size]\n",
        "    def isOperand(self,i):\n",
        "        if i in 'ABCDEFGHIJKLMNOPQRSTUVWXYZ':\n",
        "            return True\n",
        "        else:\n",
        "            return False\n",
        "    def infixtopostfix (self,expr):\n",
        "        postfix=\"\"\n",
        "        print('postfix expression after every iteration is:')\n",
        "        for i in expr:\n",
        "            if(len(expr)%2==0):\n",
        "                print(\"Incorrect infix expr\")\n",
        "                return False\n",
        "            elif(self.isOperand(i)):\n",
        "                postfix +=i\n",
        "            elif(i in '+-*/^'):\n",
        "                while(len(self.items)and self.precedence[i]<=self.precedence[self.seek()]):\n",
        "                    postfix+=self.pop()\n",
        "                self.push(i)\n",
        "            elif i is '(':\n",
        "                self.push(i)\n",
        "            elif i is ')':\n",
        "                o=self.pop()\n",
        "                while o!='(':\n",
        "                    postfix +=o\n",
        "                    o=self.pop()\n",
        "            print(postfix)\n",
        "                #end of for\n",
        "        while len(self.items):\n",
        "            if(self.seek()=='('):\n",
        "                self.pop()\n",
        "            else:\n",
        "                postfix+=self.pop()\n",
        "        return postfix\n",
        "s=infix_to_postfix()\n",
        "expr=input('enter the expression ')\n",
        "result=s.infixtopostfix(expr)\n",
        "if (result!=False):\n",
        "    print(\"the postfix expr of :\",expr,\"is\",result)"
      ],
      "execution_count": null,
      "outputs": [
        {
          "output_type": "stream",
          "text": [
            "enter the expression A\n",
            "postfix expression after every iteration is:\n",
            "A\n",
            "the postfix expr of : A is A\n"
          ],
          "name": "stdout"
        }
      ]
    },
    {
      "cell_type": "markdown",
      "metadata": {
        "id": "wg0jRoHaWud-"
      },
      "source": [
        "11. Binary tree"
      ]
    },
    {
      "cell_type": "code",
      "metadata": {
        "id": "Z2SVSWArXB3L",
        "colab": {
          "base_uri": "https://localhost:8080/"
        },
        "outputId": "16b74862-b1d7-4bfd-9310-2231d286a9ea"
      },
      "source": [
        " \n",
        "class Node:\n",
        "    def __init__(self,data):\n",
        "        self.left = None\n",
        "        self.right = None\n",
        "        self.data = data \n",
        " \n",
        "#To insert a new node\n",
        "    def insert(self,child,direction):\n",
        "        if direction == \"right\":\n",
        "            self.right = child \n",
        "        elif direction == \"left\":\n",
        "            self.left = child \n",
        " \n",
        " \n",
        "    def PrintTree(self):\n",
        "        if self.left:\n",
        "            self.left.PrintTree()\n",
        "        if self.right:\n",
        "            self.right.PrintTree()\n",
        "        print(self.data)\n",
        " \n",
        "#Use the insert method to add nodes \n",
        "A = Node(\"A\")\n",
        "B = Node(\"B\")\n",
        "C = Node(\"C\")\n",
        "D = Node(\"D\")\n",
        "E = Node(\"E\")\n",
        "F = Node(\"F\")\n",
        "A.insert(B,\"left\")\n",
        "B.insert(C,\"right\")\n",
        "C.insert(D,\"left\")\n",
        "A.insert(E,\"right\")\n",
        "E.insert(F,\"right\")\n",
        "A.PrintTree()"
      ],
      "execution_count": null,
      "outputs": [
        {
          "output_type": "stream",
          "text": [
            "D\n",
            "C\n",
            "B\n",
            "F\n",
            "E\n",
            "A\n"
          ],
          "name": "stdout"
        }
      ]
    },
    {
      "cell_type": "markdown",
      "metadata": {
        "id": "SgZAFZBIXfCg"
      },
      "source": [
        " 10.queue"
      ]
    },
    {
      "cell_type": "code",
      "metadata": {
        "id": "se3ZuuKIXuwS",
        "colab": {
          "base_uri": "https://localhost:8080/"
        },
        "outputId": "eb83f531-215a-4124-d42c-ace91908c185"
      },
      "source": [
        " \n",
        "class Node:\n",
        "    def __init__(self, element, next):\n",
        "        self.element = element\n",
        "        self.next = next\n",
        " \n",
        "class QueuesLinked:\n",
        "    def __init__(self):\n",
        "        self.front = None\n",
        "        self.rear = None\n",
        "        self.size = 0\n",
        " \n",
        "    def __len__(self):\n",
        "        return self.size\n",
        " \n",
        "    def isempty(self):\n",
        "        return self.size == 0\n",
        " \n",
        "    def enqueue(self, e):\n",
        "        newest = Node(e, None)\n",
        "        if self.isempty():\n",
        "            self.front = newest\n",
        "        else:\n",
        "            self.rear.next = newest\n",
        "        self.rear = newest\n",
        "        self.size += 1\n",
        " \n",
        "    def dequeue(self):\n",
        "        if self.isempty():\n",
        "            print('Queue is empty')\n",
        "            return\n",
        "        e = self.front.element\n",
        "        self.front = self.front.next\n",
        "        self.size -= 1\n",
        "        if self.isempty():\n",
        "            self.rear = None\n",
        "        return e\n",
        " \n",
        "    def first(self):\n",
        "        if self.isempty():\n",
        "            print('Queue is empty')\n",
        "            return\n",
        "        return self.front.element\n",
        " \n",
        "    def display(self):\n",
        "        p = self.front\n",
        "        while p:\n",
        "            print(p.element,end=' <-- ')\n",
        "            p = p.next\n",
        "        print()\n",
        " \n",
        " \n",
        "Q = QueuesLinked()\n",
        "Q.enqueue(5)\n",
        "Q.enqueue(3)\n",
        "print('Queue:')\n",
        "Q.display()\n",
        "print('Queue Length:', len(Q))\n",
        "ele = Q.dequeue()\n",
        "print('Queue:')\n",
        "Q.display()\n",
        "print('Queue Length:', len(Q))\n",
        "print('Removed Element:',ele)\n",
        "print('Is Queue Empty:',Q.isempty())\n",
        "Q.enqueue(7)\n",
        "print('Queue:')\n",
        "Q.display()\n",
        "print('Queue Length:', len(Q))\n",
        "Q.enqueue(12)\n",
        "print('Queue:')\n",
        "Q.display()\n",
        "print('Queue Length:', len(Q))\n",
        "ele = Q.dequeue()\n",
        "print('Queue:')\n",
        "Q.display()\n",
        "print('Queue Length:', len(Q))\n",
        "print('Removed Element:',ele)\n",
        "print('First Element:',Q.first())"
      ],
      "execution_count": null,
      "outputs": [
        {
          "output_type": "stream",
          "text": [
            "Queue:\n",
            "5 <-- 3 <-- \n",
            "Queue Length: 2\n",
            "Queue:\n",
            "3 <-- \n",
            "Queue Length: 1\n",
            "Removed Element: 5\n",
            "Is Queue Empty: False\n",
            "Queue:\n",
            "3 <-- 7 <-- \n",
            "Queue Length: 2\n",
            "Queue:\n",
            "3 <-- 7 <-- 12 <-- \n",
            "Queue Length: 3\n",
            "Queue:\n",
            "7 <-- 12 <-- \n",
            "Queue Length: 2\n",
            "Removed Element: 3\n",
            "First Element: 7\n"
          ],
          "name": "stdout"
        }
      ]
    },
    {
      "cell_type": "markdown",
      "metadata": {
        "id": "e9p9xZ6RX9WQ"
      },
      "source": [
        " Circular linked list"
      ]
    },
    {
      "cell_type": "code",
      "metadata": {
        "id": "-TZXj2VgYILj",
        "colab": {
          "base_uri": "https://localhost:8080/"
        },
        "outputId": "da3ead1e-6c68-4c4f-91d6-c5c38c45254f"
      },
      "source": [
        " \n",
        "class Node:\n",
        "    def __init__(self, dataval ,nextval):\n",
        "        self.dataval = dataval\n",
        "        self.nextval = nextval\n",
        "class clist:\n",
        "    def __init__(self):\n",
        "        self.head = None\n",
        "        self.tail = None\n",
        "        self.size = 0\n",
        "    def __len__(self):\n",
        "        return self.size\n",
        "    def isempty(self):\n",
        "        return self.size==0\n",
        "    def addlast(self,ele):\n",
        "        new=Node(ele,None)\n",
        "        if self.isempty():\n",
        "            new.nextval=new\n",
        "            self.head = new\n",
        "        else:\n",
        "            new.nextval=self.head\n",
        "            self.tail.nextval = new\n",
        "        self.tail=new\n",
        "        self.size+=1\n",
        "    def addfirst(self,ele):\n",
        "        new=Node(ele,None)\n",
        "        if self.isempty():\n",
        "            new.nextval=new\n",
        "            self.head = new\n",
        "            self.tail=new\n",
        "        else:\n",
        "            self.tail.nextval=new\n",
        "            new.nextval=self.head\n",
        "            self.head=new\n",
        "        self.size+=1\n",
        "    def display(self):\n",
        "        temp=self.head\n",
        "        i=0\n",
        "        while i<self.size:\n",
        "            print(temp.dataval,end='-->')\n",
        "            temp=temp.nextval\n",
        "            i=i+1\n",
        "        print()\n",
        "    def removefirst(self):\n",
        "        if self.isempty():\n",
        "            print('list is empty')\n",
        "            return\n",
        "        print('deleted=',self.head.dataval)\n",
        "        self.tail.nextval=self.head.nextval\n",
        "        self.head=self.head.nextval\n",
        "        self.size-=1\n",
        "        if self.isempty():\n",
        "            self.tail = None\n",
        "            self.head = None\n",
        "    def removelast(self):\n",
        "        if self.isempty():\n",
        "            print('list is empty')\n",
        "            return\n",
        "        temp=self.head\n",
        "        i=0\n",
        "        while i<self.size-2:\n",
        "            temp=temp.nextval\n",
        "            i+=1\n",
        "        print('\\ndeleted=',temp.nextval.dataval)\n",
        "        self.tail=temp\n",
        "        self.tail.nextval=self.head\n",
        "        self.size-=1\n",
        "s=clist()\n",
        "o=clist()\n",
        "o.addlast(30)\n",
        "o.addlast(20)\n",
        "o.addlast(50)\n",
        "o.addfirst(50)\n",
        "o.addlast(500)\n",
        "o.addfirst(250)\n",
        "o.display()\n",
        "o.removelast()\n",
        "o.display()\n",
        "o.addlast(502)\n",
        "o.addlast(501)\n",
        "o.display()\n",
        "o.removelast()\n",
        "o.display()\n",
        "o.removefirst()\n",
        "o.display()"
      ],
      "execution_count": null,
      "outputs": [
        {
          "output_type": "stream",
          "text": [
            "250-->50-->30-->20-->50-->500-->\n",
            "\n",
            "deleted= 500\n",
            "250-->50-->30-->20-->50-->\n",
            "250-->50-->30-->20-->50-->502-->501-->\n",
            "\n",
            "deleted= 501\n",
            "250-->50-->30-->20-->50-->502-->\n",
            "deleted= 250\n",
            "50-->30-->20-->50-->502-->\n"
          ],
          "name": "stdout"
        }
      ]
    },
    {
      "cell_type": "markdown",
      "metadata": {
        "id": "dfXIV6m1YRtg"
      },
      "source": [
        "Double linked"
      ]
    },
    {
      "cell_type": "code",
      "metadata": {
        "id": "tg9Mx6RcYUp7"
      },
      "source": [
        " \n",
        "class Node:\n",
        "    def _init_(self,preval,dataval,nextval):\n",
        "        self.dataval=dataval\n",
        "        self.nextval=nextval\n",
        "        self.preval=preval\n",
        "class dlist:\n",
        "    def _init_(self):\n",
        "        self.head=None\n",
        "        self.tail=None\n",
        "        self.size=0\n",
        "    def len(self):\n",
        "        return self.size\n",
        "    def isempty(self):\n",
        "        return self.size==0\n",
        "    def addlast(self,ele):\n",
        "        new=Node(None,ele,None)\n",
        "        if self.isempty():\n",
        "            self.head=new\n",
        "            self.tail=new\n",
        "        else:\n",
        "            self.tail.nextval=new\n",
        "            new.preval=self.tail\n",
        "            self.tail=new\n",
        "        self.size+=1\n",
        "    def display(self):\n",
        "        temp=self.head\n",
        "        while (temp):\n",
        "            print(temp.dataval,end='--')\n",
        "            temp=temp.nextval\n",
        "    def removelast(self):\n",
        "        if self.isempty():\n",
        "            print('empty list')\n",
        "            return\n",
        "        print('deleted element is :',self.tail.dataval)\n",
        "        self.tail.preval.nextval=None\n",
        "        self.tail=self.tail.preval\n",
        "        self.size-=1\n",
        "    def removefirst(self):\n",
        "        if self.isempty():\n",
        "            print('empty list')\n",
        "            return\n",
        "        else:\n",
        "            print('deleted element is :',self.head.dataval)\n",
        "            self.head.nextval=self.head\n",
        "            self.head.preval=None\n",
        "            self.size-=1\n",
        "            return\n",
        "    def search(self,ele):\n",
        "        temp=self.head\n",
        "        i=0\n",
        "        while(temp):\n",
        "            print('yes')\n",
        "            if temp.dataval==ele:\n",
        "                print('element found')\n",
        "                return\n",
        "            i+=1\n",
        "            temp=temp.nextval"
      ],
      "execution_count": null,
      "outputs": []
    },
    {
      "cell_type": "markdown",
      "metadata": {
        "id": "QS6pMkD2YgtR"
      },
      "source": [
        "Single linked"
      ]
    },
    {
      "cell_type": "code",
      "metadata": {
        "id": "f3uW72A6YiUo"
      },
      "source": [
        " \n",
        "class node:\n",
        "    def __init__(self,dval,nval):\n",
        "        self.dval=dval\n",
        "        self.nval=nval\n",
        "class slist:\n",
        "    def __init__(self):\n",
        "        self.head=None\n",
        "        self.tail=None\n",
        "        self.size=0\n",
        "    def len(self):\n",
        "        return self.size\n",
        "    def isempty(self):\n",
        "        return self.size==0\n",
        "    def addlast(self,e):\n",
        "        new=node(e,None)\n",
        "        if self.isempty():\n",
        "            self.head=new\n",
        "        else:\n",
        "            self.tail.nval=new\n",
        "        self.tail=new\n",
        "        self.size+=1\n",
        "    def display(self):\n",
        "        p=self.head\n",
        "        while p:\n",
        "            print(p.dval,end='--')\n",
        "            p=p.nval\n",
        "        print(' ')\n",
        "    def removefirst(self):\n",
        "        if self.isempty():\n",
        "            print('empty list')\n",
        "            return\n",
        "        print('element deleted form the list is',self.head.dval)\n",
        "        self.head=self.head.nval\n",
        "        self.size-=1\n",
        "        if self.isempty():\n",
        "            self.tail=None\n",
        "            return\n",
        "    def removelast(self):\n",
        "        if self.isempty():\n",
        "            print('empty list')\n",
        "            return\n",
        "        temp=self.head\n",
        "        i=1\n",
        "        while i<self.len()-1:\n",
        "            temp=temp.nval\n",
        "            i+=1\n",
        "        self.tail=temp\n",
        "        temp=temp.nval\n",
        "        x=temp.nval\n",
        "        self.tail.nval=None\n",
        "        self.size-=1\n",
        "        return x\n",
        "    def count(self):\n",
        "        i=0\n",
        "        p=self.head\n",
        "        while p:\n",
        "            p=p.nval\n",
        "            i+=1\n",
        "            return i\n",
        "    def search(self,el):\n",
        "        p=self.head\n",
        "        i=0\n",
        "        while (i<(self.len())):\n",
        "            print(p.dval)\n",
        "            if p.dval==el:\n",
        "                print('element is found')\n",
        "                return\n",
        "            p=p.nval\n",
        "            i+=1\n",
        "        print('element is not found')"
      ],
      "execution_count": null,
      "outputs": []
    },
    {
      "cell_type": "markdown",
      "metadata": {
        "id": "pk3-MeVUYwUs"
      },
      "source": [
        "Binary list"
      ]
    },
    {
      "cell_type": "code",
      "metadata": {
        "id": "9cNAKXBCYweU",
        "colab": {
          "base_uri": "https://localhost:8080/"
        },
        "outputId": "c74979c2-736f-48cf-ae88-aaf93e5a38f6"
      },
      "source": [
        " \n",
        "def binary(alist,key):\n",
        " \n",
        "  start = 0\n",
        "  end=len(alist)\n",
        "  while start<end :\n",
        "     mid = (start+end)//2\n",
        "     if alist[mid]>key :\n",
        "        end = mid\n",
        "     elif alist[mid]<key :\n",
        "        start=mid+1\n",
        "     else:\n",
        "        return mid \n",
        "  return -1\n",
        " \n",
        "alist = input('Enter the sorted list of numbers:')\n",
        "alist = alist.split()\n",
        "alist = [int(x) for x in alist]\n",
        "key = int(input('The number to search for :'))\n",
        "index = binary(alist,key)\n",
        "if index <0:\n",
        "   print('{}was not found.'.format(key))\n",
        "else :\n",
        "   print('{} was found at index {}.'.format(key,index))"
      ],
      "execution_count": null,
      "outputs": [
        {
          "output_type": "stream",
          "text": [
            "Enter the sorted list of numbers:1 3 4 6 7 9\n",
            "The number to search for :5\n",
            "5was not found.\n"
          ],
          "name": "stdout"
        }
      ]
    },
    {
      "cell_type": "markdown",
      "metadata": {
        "id": "DU65vBUjY8No"
      },
      "source": [
        " Linear list"
      ]
    },
    {
      "cell_type": "code",
      "metadata": {
        "id": "N86WSkg-Y-q1",
        "colab": {
          "base_uri": "https://localhost:8080/"
        },
        "outputId": "49bb808a-5baf-4870-c677-1ee693c3cd6c"
      },
      "source": [
        " \n",
        "def binary(alist,key):\n",
        " \n",
        "  start = 0\n",
        "  end=len(alist)\n",
        "  while start<end :\n",
        "     mid = (start+end)//2\n",
        "     if alist[mid]>key :\n",
        "        end = mid\n",
        "     elif alist[mid]<key :\n",
        "        start=mid+1\n",
        "     else:\n",
        "        return mid \n",
        "  return -1\n",
        " \n",
        "alist = input('Enter the sorted list of numbers:')\n",
        "alist = alist.split()\n",
        "alist = [int(x) for x in alist]\n",
        "key = int(input('The number to search for :'))\n",
        "index = binary(alist,key)\n",
        "if index <0:\n",
        "   print('{}was not found.'.format(key))\n",
        "else :\n",
        "   print('{} was found at index {}.'.format(key,index))"
      ],
      "execution_count": null,
      "outputs": [
        {
          "output_type": "stream",
          "text": [
            "Enter the sorted list of numbers:2 5 8 10 12 14 16\n",
            "The number to search for :10\n",
            "10 was found at index 3.\n"
          ],
          "name": "stdout"
        }
      ]
    }
  ]
}