{
  "nbformat": 4,
  "nbformat_minor": 0,
  "metadata": {
    "colab": {
      "name": "Untitled1.ipynb",
      "provenance": [],
      "authorship_tag": "ABX9TyPQOLmMXjlTGbV2AIwiTZPt",
      "include_colab_link": true
    },
    "kernelspec": {
      "name": "python3",
      "display_name": "Python 3"
    }
  },
  "cells": [
    {
      "cell_type": "markdown",
      "metadata": {
        "id": "view-in-github",
        "colab_type": "text"
      },
      "source": [
        "<a href=\"https://colab.research.google.com/github/Ariefbasha/Democrats-/blob/master/1july.ipynb\" target=\"_parent\"><img src=\"https://colab.research.google.com/assets/colab-badge.svg\" alt=\"Open In Colab\"/></a>"
      ]
    },
    {
      "cell_type": "markdown",
      "metadata": {
        "id": "8ApBUMJyYGpj",
        "colab_type": "text"
      },
      "source": [
        "1.Program to create a tuple."
      ]
    },
    {
      "cell_type": "code",
      "metadata": {
        "id": "VHX6vYN7Yh5c",
        "colab_type": "code",
        "colab": {
          "base_uri": "https://localhost:8080/",
          "height": 34
        },
        "outputId": "17a48116-feff-4646-ecca-08139069c92a"
      },
      "source": [
        "t1 = (1,2,9,6,8)\n",
        "print(t1, type(t1))"
      ],
      "execution_count": 3,
      "outputs": [
        {
          "output_type": "stream",
          "text": [
            "(1, 2, 9, 6, 8) <class 'tuple'>\n"
          ],
          "name": "stdout"
        }
      ]
    },
    {
      "cell_type": "markdown",
      "metadata": {
        "id": "Izm3WLXoY3p6",
        "colab_type": "text"
      },
      "source": [
        "2.Program to create a tuple with different data types.\n",
        "\n"
      ]
    },
    {
      "cell_type": "code",
      "metadata": {
        "id": "bUo9GqJ0ZBUN",
        "colab_type": "code",
        "colab": {
          "base_uri": "https://localhost:8080/",
          "height": 34
        },
        "outputId": "c4d36f63-98c7-4d59-d58e-4577ec657582"
      },
      "source": [
        "t1 = (1,2.5,\"date\",[\"Hello\",1,6])\n",
        "print(t1, type(t1))"
      ],
      "execution_count": 5,
      "outputs": [
        {
          "output_type": "stream",
          "text": [
            "(1, 2.5, 'date', ['Hello', 1, 6]) <class 'tuple'>\n"
          ],
          "name": "stdout"
        }
      ]
    },
    {
      "cell_type": "markdown",
      "metadata": {
        "id": "JyhmtBdIZLcE",
        "colab_type": "text"
      },
      "source": [
        "3.Program to convert a tuple into a string.\n",
        "\n"
      ]
    },
    {
      "cell_type": "code",
      "metadata": {
        "id": "aZAVHwh5ZO_G",
        "colab_type": "code",
        "colab": {
          "base_uri": "https://localhost:8080/",
          "height": 34
        },
        "outputId": "d12663a8-fe9e-4ec0-8961-3635a09936c3"
      },
      "source": [
        "t1 = (\"d\",\"a\",\"t\",\"e\")\n",
        "str = \"\".join(t1)\n",
        "print(\"Tuple converted string:\",str)"
      ],
      "execution_count": 8,
      "outputs": [
        {
          "output_type": "stream",
          "text": [
            "Tuple converted string: date\n"
          ],
          "name": "stdout"
        }
      ]
    },
    {
      "cell_type": "markdown",
      "metadata": {
        "id": "FPk-IxPWZl61",
        "colab_type": "text"
      },
      "source": [
        "4.Program to slice a tuple.\n",
        "\n"
      ]
    },
    {
      "cell_type": "code",
      "metadata": {
        "id": "QrnJ2nxSZq6V",
        "colab_type": "code",
        "colab": {
          "base_uri": "https://localhost:8080/",
          "height": 34
        },
        "outputId": "2c32a7b9-793b-45c8-e91e-d7503b3ddfb1"
      },
      "source": [
        "t1 = (1,2,3,4,5,6,7,8,9,10)\n",
        "slice_tup = (t1[2:6])\n",
        "print(\"Sliced tuple:\",slice_tup)"
      ],
      "execution_count": 9,
      "outputs": [
        {
          "output_type": "stream",
          "text": [
            "Sliced tuple: (3, 4, 5, 6)\n"
          ],
          "name": "stdout"
        }
      ]
    },
    {
      "cell_type": "markdown",
      "metadata": {
        "id": "g-9SPLGWZ0iu",
        "colab_type": "text"
      },
      "source": [
        "5.Program to find the length of a tuple.\n",
        "\n"
      ]
    },
    {
      "cell_type": "code",
      "metadata": {
        "id": "j9XqYeFQZ98f",
        "colab_type": "code",
        "colab": {
          "base_uri": "https://localhost:8080/",
          "height": 34
        },
        "outputId": "5260947a-d3b6-4258-8a34-8c6ad4800d85"
      },
      "source": [
        "t1 = (1,2,3,4,5,6,7,8,9,10)\n",
        "count = 0\n",
        "for item in t1:\n",
        "  count+=1\n",
        "print(\"Length of the tuple:\",count)"
      ],
      "execution_count": 10,
      "outputs": [
        {
          "output_type": "stream",
          "text": [
            "Length of the tuple: 10\n"
          ],
          "name": "stdout"
        }
      ]
    },
    {
      "cell_type": "code",
      "metadata": {
        "id": "4t3cBroJaR6j",
        "colab_type": "code",
        "colab": {
          "base_uri": "https://localhost:8080/",
          "height": 34
        },
        "outputId": "3b65ab5a-308f-419c-86d9-ee9437da35c8"
      },
      "source": [
        "t1 = (1,2,3,4,5,6,7,8,9,10)\n",
        "print(\"Length of the tuple:\",len(t1))"
      ],
      "execution_count": 11,
      "outputs": [
        {
          "output_type": "stream",
          "text": [
            "Length of the tuple: 10\n"
          ],
          "name": "stdout"
        }
      ]
    },
    {
      "cell_type": "markdown",
      "metadata": {
        "id": "ueWjbwleaVVV",
        "colab_type": "text"
      },
      "source": [
        "6.Program to convert a tuple into a dictionary.\n",
        "\n"
      ]
    },
    {
      "cell_type": "code",
      "metadata": {
        "id": "04M8GzDzamki",
        "colab_type": "code",
        "colab": {
          "base_uri": "https://localhost:8080/",
          "height": 34
        },
        "outputId": "ad300055-25ba-4b25-ffb0-ea26817d65f4"
      },
      "source": [
        "t1 = ((\"one\",1),(\"two\",2),(\"three\",3),(\"four\",4),(\"five\",5))\n",
        "converted_dict = dict(t1)\n",
        "print(\"Converted Dictionary:\",converted_dict)"
      ],
      "execution_count": 12,
      "outputs": [
        {
          "output_type": "stream",
          "text": [
            "Converted Dictionary: {'one': 1, 'two': 2, 'three': 3, 'four': 4, 'five': 5}\n"
          ],
          "name": "stdout"
        }
      ]
    },
    {
      "cell_type": "markdown",
      "metadata": {
        "id": "cpD995NCaqrK",
        "colab_type": "text"
      },
      "source": [
        "7.Program to reverse a tuple.\n",
        "\n"
      ]
    },
    {
      "cell_type": "code",
      "metadata": {
        "id": "8KrXmZJNa1Z-",
        "colab_type": "code",
        "colab": {
          "base_uri": "https://localhost:8080/",
          "height": 34
        },
        "outputId": "4b99c40b-dc6c-4f57-8fbb-96bd0aff4ddb"
      },
      "source": [
        "t1 = (1,2,3,4,5,6,7,8,9,10)\n",
        "print(\"Reversed Tuple:\",t1[::-1])"
      ],
      "execution_count": 13,
      "outputs": [
        {
          "output_type": "stream",
          "text": [
            "Reversed Tuple: (10, 9, 8, 7, 6, 5, 4, 3, 2, 1)\n"
          ],
          "name": "stdout"
        }
      ]
    },
    {
      "cell_type": "markdown",
      "metadata": {
        "id": "6qFBg_Yta8Y6",
        "colab_type": "text"
      },
      "source": [
        "8.Program to convert a list of tuples into a dictionary.\n",
        "\n"
      ]
    },
    {
      "cell_type": "code",
      "metadata": {
        "id": "K2sozjVNbB90",
        "colab_type": "code",
        "colab": {
          "base_uri": "https://localhost:8080/",
          "height": 34
        },
        "outputId": "aaea604f-ca4c-4e25-b199-5135c13dd210"
      },
      "source": [
        "mylist = [(\"one\",1),(\"two\",2),(\"three\",3),(\"four\",4)]\n",
        "dict_converted = dict(mylist)\n",
        "print(\"Dictionary converted list:\",dict_converted)"
      ],
      "execution_count": 14,
      "outputs": [
        {
          "output_type": "stream",
          "text": [
            "Dictionary converted list: {'one': 1, 'two': 2, 'three': 3, 'four': 4}\n"
          ],
          "name": "stdout"
        }
      ]
    },
    {
      "cell_type": "markdown",
      "metadata": {
        "id": "eMXKIvHAbMZ9",
        "colab_type": "text"
      },
      "source": [
        "9.Program to convert a list of tuples into a tuple.\n",
        "\n"
      ]
    },
    {
      "cell_type": "code",
      "metadata": {
        "id": "leqlpvSkbQ8m",
        "colab_type": "code",
        "colab": {
          "base_uri": "https://localhost:8080/",
          "height": 34
        },
        "outputId": "99fba9a3-e569-400b-f1e2-64c3def4c984"
      },
      "source": [
        "mylist = [\"Hello\",\"Hey\",\"Hi\",\"Hola\",\"Bonjour\"]\n",
        "print(\"Tuple converted list:\",tuple(mylist))"
      ],
      "execution_count": 15,
      "outputs": [
        {
          "output_type": "stream",
          "text": [
            "Tuple converted list: ('Hello', 'Hey', 'Hi', 'Hola', 'Bonjour')\n"
          ],
          "name": "stdout"
        }
      ]
    }
  ]
}