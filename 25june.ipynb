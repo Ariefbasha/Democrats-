{
  "nbformat": 4,
  "nbformat_minor": 0,
  "metadata": {
    "colab": {
      "name": "25june",
      "provenance": [],
      "authorship_tag": "ABX9TyPeVL3whyiNe5oHId7cvC1T",
      "include_colab_link": true
    },
    "kernelspec": {
      "name": "python3",
      "display_name": "Python 3"
    }
  },
  "cells": [
    {
      "cell_type": "markdown",
      "metadata": {
        "id": "view-in-github",
        "colab_type": "text"
      },
      "source": [
        "<a href=\"https://colab.research.google.com/github/Ariefbasha/Democrats-/blob/master/25june.ipynb\" target=\"_parent\"><img src=\"https://colab.research.google.com/assets/colab-badge.svg\" alt=\"Open In Colab\"/></a>"
      ]
    },
    {
      "cell_type": "markdown",
      "metadata": {
        "id": "84XNqG5t_U1-",
        "colab_type": "text"
      },
      "source": [
        "1. Program to find the square root.\n",
        "\n"
      ]
    },
    {
      "cell_type": "code",
      "metadata": {
        "id": "Z7tKrvsP_Vm1",
        "colab_type": "code",
        "colab": {
          "base_uri": "https://localhost:8080/",
          "height": 34
        },
        "outputId": "4841ee90-c2b5-42f7-a00a-68ab174e7d4c"
      },
      "source": [
        "import math\n",
        "def sq_root(num):\n",
        "    sq=math.sqrt(num)\n",
        "    print(\"The square root of\",num,\"is:\",sq)\n",
        "sq_root(81)"
      ],
      "execution_count": 1,
      "outputs": [
        {
          "output_type": "stream",
          "text": [
            "The square root of 81 is: 9.0\n"
          ],
          "name": "stdout"
        }
      ]
    },
    {
      "cell_type": "markdown",
      "metadata": {
        "id": "Dk4w5Oe-_gOa",
        "colab_type": "text"
      },
      "source": [
        "2. Program to check if a number is positive, negative or zero.\n",
        "\n"
      ]
    },
    {
      "cell_type": "code",
      "metadata": {
        "id": "oVw-BjNj_hBI",
        "colab_type": "code",
        "colab": {
          "base_uri": "https://localhost:8080/",
          "height": 34
        },
        "outputId": "75785998-81a5-4b71-b16a-eca41396db59"
      },
      "source": [
        "def check_num(num):\n",
        "    if num>0:\n",
        "        print(num,\"is positive.\")\n",
        "    elif num<0:\n",
        "        print(num,\"is negative.\")\n",
        "    else:\n",
        "        print(num,\"is zero.\")\n",
        "check_num(7)"
      ],
      "execution_count": 3,
      "outputs": [
        {
          "output_type": "stream",
          "text": [
            "7 is positive.\n"
          ],
          "name": "stdout"
        }
      ]
    },
    {
      "cell_type": "markdown",
      "metadata": {
        "id": "GbtHAGsd_rxr",
        "colab_type": "text"
      },
      "source": [
        "3. Program to checck if the given year is a leap year or not.\n",
        "\n"
      ]
    },
    {
      "cell_type": "code",
      "metadata": {
        "id": "CeMbEdPU_u00",
        "colab_type": "code",
        "colab": {
          "base_uri": "https://localhost:8080/",
          "height": 34
        },
        "outputId": "847561fe-f300-4010-b0c0-8fbfa8c363e1"
      },
      "source": [
        "def leap_year(year):\n",
        "    if year%4==0:\n",
        "        if year%100==0:\n",
        "            if year%400==0:\n",
        "                print(year,\"is a leap year.\")\n",
        "            else:\n",
        "                print(year,\"is not a leap year.\")\n",
        "        else:\n",
        "            print(year,\"is a leap year.\")\n",
        "    else:\n",
        "        print(year,\"is not a leap year.\")\n",
        "leap_year(2000)\n"
      ],
      "execution_count": 4,
      "outputs": [
        {
          "output_type": "stream",
          "text": [
            "2000 is a leap year.\n"
          ],
          "name": "stdout"
        }
      ]
    },
    {
      "cell_type": "markdown",
      "metadata": {
        "id": "er9Ij5Iz_1Yr",
        "colab_type": "text"
      },
      "source": [
        "4. Program to print the Fibonacci series.\n",
        "\n"
      ]
    },
    {
      "cell_type": "code",
      "metadata": {
        "id": "SD-MyStxALXk",
        "colab_type": "code",
        "colab": {
          "base_uri": "https://localhost:8080/",
          "height": 51
        },
        "outputId": "895cbd49-6b55-4d52-ac38-263f24f908c0"
      },
      "source": [
        "def fibonacci(num):\n",
        "    first_term, second_term, count=0, 1, 0\n",
        "    print(\"Fibonacci Series upto\",num,\"terms is given by: \")\n",
        "    while count<num:\n",
        "        print(first_term, end=\" \")\n",
        "        next_term=first_term+second_term\n",
        "        first_term=second_term\n",
        "        second_term=next_term\n",
        "        count+=1\n",
        "fibonacci(7)"
      ],
      "execution_count": 5,
      "outputs": [
        {
          "output_type": "stream",
          "text": [
            "Fibonacci Series upto 7 terms is given by: \n",
            "0 1 1 2 3 5 8 "
          ],
          "name": "stdout"
        }
      ]
    },
    {
      "cell_type": "markdown",
      "metadata": {
        "id": "xB2MVqBXAOh4",
        "colab_type": "text"
      },
      "source": [
        "5. Check if a number is Armstrong number or not.\n",
        "\n"
      ]
    },
    {
      "cell_type": "code",
      "metadata": {
        "id": "mdCTNTPuATnP",
        "colab_type": "code",
        "colab": {
          "base_uri": "https://localhost:8080/",
          "height": 34
        },
        "outputId": "9488d137-c96f-498a-a836-36c5349e393d"
      },
      "source": [
        "def armstrong(num):\n",
        "    sum=0\n",
        "    temp=num\n",
        "    while temp!=0:\n",
        "        last_digit= temp%10\n",
        "        sum=sum+pow(last_digit,len(str(num)))\n",
        "        temp=temp//10\n",
        "    if num==sum:\n",
        "        print(num,\"is an Armstrong Number.\")\n",
        "    else:\n",
        "        print(num,\"is not an Armstrong Number.\")\n",
        "armstrong(54748)"
      ],
      "execution_count": 7,
      "outputs": [
        {
          "output_type": "stream",
          "text": [
            "54748 is an Armstrong Number.\n"
          ],
          "name": "stdout"
        }
      ]
    },
    {
      "cell_type": "markdown",
      "metadata": {
        "id": "NNSUtGc2AbNX",
        "colab_type": "text"
      },
      "source": [
        "6. Print all Armstrong Numbers in an interval.\n",
        "\n"
      ]
    },
    {
      "cell_type": "code",
      "metadata": {
        "id": "3VADA6j_AeYL",
        "colab_type": "code",
        "colab": {
          "base_uri": "https://localhost:8080/",
          "height": 85
        },
        "outputId": "bb9cb987-ff18-4604-e6e2-2193bb45b737"
      },
      "source": [
        "start=int(input(\"Enter the starting index: \"))\n",
        "end=int(input(\"Enter the ending index: \"))\n",
        "if end>=1000:\n",
        "    print(\"Invalid ending index.\")\n",
        "else:\n",
        "    for num in range(start,end+1):\n",
        "        sum=0\n",
        "        temp=num\n",
        "        while temp>0:\n",
        "            rem=temp%10\n",
        "            sum+=rem**3\n",
        "            temp=temp//10\n",
        "        if num==sum:\n",
        "            print(num)"
      ],
      "execution_count": 6,
      "outputs": [
        {
          "output_type": "stream",
          "text": [
            "Enter the starting index: 0\n",
            "Enter the ending index: 99\n",
            "0\n",
            "1\n"
          ],
          "name": "stdout"
        }
      ]
    }
  ]
}