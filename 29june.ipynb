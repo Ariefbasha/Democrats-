{
  "nbformat": 4,
  "nbformat_minor": 0,
  "metadata": {
    "colab": {
      "name": "29june.ipynb",
      "provenance": [],
      "authorship_tag": "ABX9TyNSc/wzUBYcGAGNNHWLPLnf",
      "include_colab_link": true
    },
    "kernelspec": {
      "name": "python3",
      "display_name": "Python 3"
    }
  },
  "cells": [
    {
      "cell_type": "markdown",
      "metadata": {
        "id": "view-in-github",
        "colab_type": "text"
      },
      "source": [
        "<a href=\"https://colab.research.google.com/github/Ariefbasha/Democrats-/blob/master/29june.ipynb\" target=\"_parent\"><img src=\"https://colab.research.google.com/assets/colab-badge.svg\" alt=\"Open In Colab\"/></a>"
      ]
    },
    {
      "cell_type": "markdown",
      "metadata": {
        "id": "AhGAsBHVVRnz",
        "colab_type": "text"
      },
      "source": [
        "1.Program to get the largest and smallest number from a list."
      ]
    },
    {
      "cell_type": "code",
      "metadata": {
        "id": "25aV0BWVVZlQ",
        "colab_type": "code",
        "colab": {
          "base_uri": "https://localhost:8080/",
          "height": 68
        },
        "outputId": "ff3ee82f-c92d-4bc1-d749-f519caee4b0a"
      },
      "source": [
        "mylist = [6,34,9,14,87,44]\n",
        "print(\"The given list is:\",mylist)\n",
        "print(\"Largest number in the list is\",max(mylist))\n",
        "print(\"Smallest number in the list:\",min(mylist))"
      ],
      "execution_count": 1,
      "outputs": [
        {
          "output_type": "stream",
          "text": [
            "The given list is: [6, 34, 9, 14, 87, 44]\n",
            "Largest number in the list is 87\n",
            "Smallest number in the list: 6\n"
          ],
          "name": "stdout"
        }
      ]
    },
    {
      "cell_type": "markdown",
      "metadata": {
        "id": "CwIPJrP6VtOl",
        "colab_type": "text"
      },
      "source": [
        "2.Program to remove duplicate elements from a list.\n",
        "\n"
      ]
    },
    {
      "cell_type": "code",
      "metadata": {
        "id": "SEDsXrauVxZE",
        "colab_type": "code",
        "colab": {
          "base_uri": "https://localhost:8080/",
          "height": 34
        },
        "outputId": "c70b24f7-4bd1-49f2-b6dc-a94bfb5841d8"
      },
      "source": [
        "mylist = [1,4,4,6,3,3,3,8,7,7,0,1]\n",
        "newlist = []\n",
        "\n",
        "for item in mylist:\n",
        "    if item not in newlist:\n",
        "        newlist.append(item)\n",
        "print(\"New list:\",newlist)\n"
      ],
      "execution_count": 2,
      "outputs": [
        {
          "output_type": "stream",
          "text": [
            "New list: [1, 4, 6, 3, 8, 7, 0]\n"
          ],
          "name": "stdout"
        }
      ]
    },
    {
      "cell_type": "markdown",
      "metadata": {
        "id": "qrKSqdD9V3hT",
        "colab_type": "text"
      },
      "source": [
        "3.Program to check if the list is empty or not.\n",
        "\n"
      ]
    },
    {
      "cell_type": "code",
      "metadata": {
        "id": "BdaybIusV776",
        "colab_type": "code",
        "colab": {
          "base_uri": "https://localhost:8080/",
          "height": 51
        },
        "outputId": "cdcdfd0c-6ca8-4a02-9314-ae3089fbb91a"
      },
      "source": [
        "mylist = [6,34,9,14,87,44]\n",
        "list1 = []\n",
        "if mylist == []:\n",
        "    print(\"True\")\n",
        "else:\n",
        "    print(\"False\")\n",
        "    \n",
        "if list1 != []:\n",
        "    print(\"False\")\n",
        "else:\n",
        "    print(\"True\")"
      ],
      "execution_count": 3,
      "outputs": [
        {
          "output_type": "stream",
          "text": [
            "False\n",
            "True\n"
          ],
          "name": "stdout"
        }
      ]
    },
    {
      "cell_type": "markdown",
      "metadata": {
        "id": "Dx90d6nSWEn_",
        "colab_type": "text"
      },
      "source": [
        "4.Program to clone or copy a list.\n",
        "\n"
      ]
    },
    {
      "cell_type": "code",
      "metadata": {
        "id": "7TZl3FSQWIkI",
        "colab_type": "code",
        "colab": {
          "base_uri": "https://localhost:8080/",
          "height": 51
        },
        "outputId": "8727fcae-90f5-46f5-baf1-e1ce11823f48"
      },
      "source": [
        "mylist = [6,35,8,18,82,49]\n",
        "print(\"Original list:\",mylist)\n",
        "newlist = mylist.copy()\n",
        "print(\"Copied list:\",newlist)"
      ],
      "execution_count": 4,
      "outputs": [
        {
          "output_type": "stream",
          "text": [
            "Original list: [6, 35, 8, 18, 82, 49]\n",
            "Copied list: [6, 35, 8, 18, 82, 49]\n"
          ],
          "name": "stdout"
        }
      ]
    },
    {
      "cell_type": "markdown",
      "metadata": {
        "id": "ucFbQC77WV1S",
        "colab_type": "text"
      },
      "source": [
        "5.Program to print a specified list after removing the 0th, 4th and 5th elements.\n",
        "\n"
      ]
    },
    {
      "cell_type": "code",
      "metadata": {
        "id": "VQpkprXmWish",
        "colab_type": "code",
        "colab": {
          "base_uri": "https://localhost:8080/",
          "height": 34
        },
        "outputId": "a15e8786-4505-42b9-fb6c-404e098b75b8"
      },
      "source": [
        "mylist = [\"Red\",\"Green\",\"White\",\"Black\",\"Pink\",\"Yellow\"]\n",
        "mylist.pop(0)\n",
        "mylist.remove(\"Pink\")\n",
        "mylist.remove(\"Yellow\")\n",
        "print(\"New list:\",mylist)"
      ],
      "execution_count": 5,
      "outputs": [
        {
          "output_type": "stream",
          "text": [
            "New list: ['Green', 'White', 'Black']\n"
          ],
          "name": "stdout"
        }
      ]
    },
    {
      "cell_type": "markdown",
      "metadata": {
        "id": "AHj38aHdWqMo",
        "colab_type": "text"
      },
      "source": [
        "6.Program to print the numbers of a specified list after removing even numbers from it.\n",
        "\n"
      ]
    },
    {
      "cell_type": "code",
      "metadata": {
        "id": "2BhE04i9Ww16",
        "colab_type": "code",
        "colab": {
          "base_uri": "https://localhost:8080/",
          "height": 34
        },
        "outputId": "82f2be5d-bb7e-4bec-e13e-4583378a6b29"
      },
      "source": [
        "mylist = [1,2,3,4,5,6,7,8,9,10]\n",
        "for item in mylist:\n",
        "    if item%2==0:\n",
        "        mylist.remove(item)\n",
        "print(mylist)"
      ],
      "execution_count": 6,
      "outputs": [
        {
          "output_type": "stream",
          "text": [
            "[1, 3, 5, 7, 9]\n"
          ],
          "name": "stdout"
        }
      ]
    },
    {
      "cell_type": "markdown",
      "metadata": {
        "id": "c6Er4ngpW2pE",
        "colab_type": "text"
      },
      "source": [
        "7.Program to shuffle and print a list.\n",
        "\n"
      ]
    },
    {
      "cell_type": "code",
      "metadata": {
        "id": "Aeh3zOs4W6UX",
        "colab_type": "code",
        "colab": {
          "base_uri": "https://localhost:8080/",
          "height": 34
        },
        "outputId": "7a8b625b-e38d-49e6-c1a1-271ea1541bef"
      },
      "source": [
        "from random import shuffle\n",
        "\n",
        "mylist = [1,2,3,4,5,6,7,8,9,10]\n",
        "shuffle(mylist)\n",
        "print(\"New list:\",mylist)"
      ],
      "execution_count": 7,
      "outputs": [
        {
          "output_type": "stream",
          "text": [
            "New list: [3, 2, 5, 9, 7, 4, 10, 6, 8, 1]\n"
          ],
          "name": "stdout"
        }
      ]
    },
    {
      "cell_type": "markdown",
      "metadata": {
        "id": "XVADQcPqW_SE",
        "colab_type": "text"
      },
      "source": [
        "8.Program to find the difference between two lists.\n",
        "\n"
      ]
    },
    {
      "cell_type": "code",
      "metadata": {
        "id": "zt5YKfbZXEAQ",
        "colab_type": "code",
        "colab": {
          "base_uri": "https://localhost:8080/",
          "height": 34
        },
        "outputId": "3e7c2cf6-7028-4efe-cfda-cce2942105ab"
      },
      "source": [
        "list1 = [1,2,3,4,5,6]\n",
        "list2 = [4,2,6]\n",
        "list3 = []\n",
        "for item in list1:\n",
        "    if item not in list2:\n",
        "        list3.append(item)\n",
        "print(list3,\"is the difference between given two lists.\")"
      ],
      "execution_count": 8,
      "outputs": [
        {
          "output_type": "stream",
          "text": [
            "[1, 3, 5] is the difference between given two lists.\n"
          ],
          "name": "stdout"
        }
      ]
    }
  ]
}