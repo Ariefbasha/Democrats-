{
  "nbformat": 4,
  "nbformat_minor": 0,
  "metadata": {
    "colab": {
      "name": "2july.ipynb",
      "provenance": [],
      "authorship_tag": "ABX9TyP0RjjX9RcCvAbyYcfiD25S",
      "include_colab_link": true
    },
    "kernelspec": {
      "name": "python3",
      "display_name": "Python 3"
    }
  },
  "cells": [
    {
      "cell_type": "markdown",
      "metadata": {
        "id": "view-in-github",
        "colab_type": "text"
      },
      "source": [
        "<a href=\"https://colab.research.google.com/github/Ariefbasha/Democrats-/blob/master/2july.ipynb\" target=\"_parent\"><img src=\"https://colab.research.google.com/assets/colab-badge.svg\" alt=\"Open In Colab\"/></a>"
      ]
    },
    {
      "cell_type": "markdown",
      "metadata": {
        "id": "Vh1y3bsKbukJ",
        "colab_type": "text"
      },
      "source": [
        "1.What is a dictionary in Python? Explain with an example.\n",
        "\n",
        "\n",
        "It is an unordered sequence data structure. Dictionaries are denoted by curly braces { }. It is a collection of various key:value pairs. Keys are immutable and unique. Values are mutable and their values can be duplicated.\n",
        "For example:"
      ]
    },
    {
      "cell_type": "code",
      "metadata": {
        "id": "EWnCdWPycDuN",
        "colab_type": "code",
        "colab": {
          "base_uri": "https://localhost:8080/",
          "height": 34
        },
        "outputId": "04ed51e5-fd48-430c-e4fa-f1e49938f997"
      },
      "source": [
        "dict1 = {\"one\":1,\"two\":2,\"three\":3}\n",
        "print(\"Dictionary:\",dict1)"
      ],
      "execution_count": 1,
      "outputs": [
        {
          "output_type": "stream",
          "text": [
            "Dictionary: {'one': 1, 'two': 2, 'three': 3}\n"
          ],
          "name": "stdout"
        }
      ]
    },
    {
      "cell_type": "markdown",
      "metadata": {
        "id": "ygqKSMzjcPbX",
        "colab_type": "text"
      },
      "source": [
        "2.Program to sum all the items in a list.\n",
        "\n"
      ]
    },
    {
      "cell_type": "code",
      "metadata": {
        "id": "PaTuTKKScgM8",
        "colab_type": "code",
        "colab": {
          "base_uri": "https://localhost:8080/",
          "height": 34
        },
        "outputId": "6428e829-a373-4369-b756-0d594f4896ec"
      },
      "source": [
        "def sum_list(mylist):\n",
        "  sum = 0\n",
        "  for item in mylist:\n",
        "    sum = sum + item\n",
        "  print(\"Sum of all the items in the given list is:\",sum)\n",
        "sum_list([1,5,2,8,0,3,9,4,5,1,5,6,2,7])"
      ],
      "execution_count": 2,
      "outputs": [
        {
          "output_type": "stream",
          "text": [
            "Sum of all the items in the given list is: 58\n"
          ],
          "name": "stdout"
        }
      ]
    },
    {
      "cell_type": "markdown",
      "metadata": {
        "id": "j6SC6TxUcjj0",
        "colab_type": "text"
      },
      "source": [
        "3.Program to create a list of empty dictionaries.\n",
        "\n"
      ]
    },
    {
      "cell_type": "code",
      "metadata": {
        "id": "lEe--vbzcmr1",
        "colab_type": "code",
        "colab": {
          "base_uri": "https://localhost:8080/",
          "height": 51
        },
        "outputId": "38204fb0-c082-48b7-8db4-3218b0e010d1"
      },
      "source": [
        "n = int(input(\"Enter number of empty dictionaries: \"))\n",
        "mydict = {}\n",
        "mylist = [mydict] * n\n",
        "print(\"List of\",n,\"empty dictionaries:\",mylist)"
      ],
      "execution_count": 3,
      "outputs": [
        {
          "output_type": "stream",
          "text": [
            "Enter number of empty dictionaries: 3\n",
            "List of 3 empty dictionaries: [{}, {}, {}]\n"
          ],
          "name": "stdout"
        }
      ]
    },
    {
      "cell_type": "markdown",
      "metadata": {
        "id": "qgoAvepscvfD",
        "colab_type": "text"
      },
      "source": [
        "4.Program to access dictionary keys element by index.\n",
        "\n"
      ]
    },
    {
      "cell_type": "code",
      "metadata": {
        "id": "5hdkdDejcz6M",
        "colab_type": "code",
        "colab": {
          "base_uri": "https://localhost:8080/",
          "height": 136
        },
        "outputId": "231f5f1f-6cf9-4ed1-816e-30cdf5963134"
      },
      "source": [
        "dict1 = {\"blue\":1, \"green\":2, \"yellow\":3, \"red\":4, \"black\":5, \"purple\":6}\n",
        "print(\"Given dictionary:\",dict1)\n",
        "mylist = list(dict1)\n",
        "index = 0\n",
        "for item in mylist:\n",
        "  print(\"Index \",index,\"has:\",mylist[index])\n",
        "  index = index + 1\n",
        "\n"
      ],
      "execution_count": 4,
      "outputs": [
        {
          "output_type": "stream",
          "text": [
            "Given dictionary: {'blue': 1, 'green': 2, 'yellow': 3, 'red': 4, 'black': 5, 'purple': 6}\n",
            "Index  0 has: blue\n",
            "Index  1 has: green\n",
            "Index  2 has: yellow\n",
            "Index  3 has: red\n",
            "Index  4 has: black\n",
            "Index  5 has: purple\n"
          ],
          "name": "stdout"
        }
      ]
    },
    {
      "cell_type": "markdown",
      "metadata": {
        "id": "rNKkAm0tc-fH",
        "colab_type": "text"
      },
      "source": [
        "5.Program to iterate over dictionaries using for loops.\n",
        "\n"
      ]
    },
    {
      "cell_type": "code",
      "metadata": {
        "id": "DuufUr09dCki",
        "colab_type": "code",
        "colab": {
          "base_uri": "https://localhost:8080/",
          "height": 391
        },
        "outputId": "df06a87c-4181-465d-c1a1-4d8ac199c76e"
      },
      "source": [
        "dict1 = {\"blue\":1, \"green\":2, \"yellow\":3, \"red\":4, \"black\":5, \"purple\":6}\n",
        "print(\"Given dictionary:\",dict1)\n",
        "print(\"Keys present in the given dictionary:\")\n",
        "for item in dict1:\n",
        "  print(item)\n",
        "\n",
        "print(\"Values present in the given dictionary:\")\n",
        "for item in dict1.values():\n",
        "  print(item)\n",
        "\n",
        "print(\"Key:Value pairs in the given dictionary:\")\n",
        "for (k,v) in dict1.items():\n",
        "  print(k,\":\",v)\n"
      ],
      "execution_count": 5,
      "outputs": [
        {
          "output_type": "stream",
          "text": [
            "Given dictionary: {'blue': 1, 'green': 2, 'yellow': 3, 'red': 4, 'black': 5, 'purple': 6}\n",
            "Keys present in the given dictionary:\n",
            "blue\n",
            "green\n",
            "yellow\n",
            "red\n",
            "black\n",
            "purple\n",
            "Values present in the given dictionary:\n",
            "1\n",
            "2\n",
            "3\n",
            "4\n",
            "5\n",
            "6\n",
            "Key:Value pairs in the given dictionary:\n",
            "blue : 1\n",
            "green : 2\n",
            "yellow : 3\n",
            "red : 4\n",
            "black : 5\n",
            "purple : 6\n"
          ],
          "name": "stdout"
        }
      ]
    },
    {
      "cell_type": "markdown",
      "metadata": {
        "id": "ZWvSJCLSdOhe",
        "colab_type": "text"
      },
      "source": [
        "6.Program to sum all the items in a given dictionary.\n",
        "\n"
      ]
    },
    {
      "cell_type": "code",
      "metadata": {
        "id": "o1hNvhrAdUbx",
        "colab_type": "code",
        "colab": {
          "base_uri": "https://localhost:8080/",
          "height": 68
        },
        "outputId": "46165e28-8d98-4cbe-ef62-318c067c1409"
      },
      "source": [
        "dict1 = {1:100, 2:200, 3:300, 4:400, 5:500}\n",
        "print(\"Given dictionary:\",dict1)\n",
        "sum=0\n",
        "for value in dict1.values():\n",
        "  sum = sum + value\n",
        "print(\"Sum of all the values in the given dictionary:\",sum)\n",
        "\n",
        "for key in dict1.keys():\n",
        "  sum = sum + key\n",
        "print(\"Sum of all keys in the given dictionary:\",sum)"
      ],
      "execution_count": 6,
      "outputs": [
        {
          "output_type": "stream",
          "text": [
            "Given dictionary: {1: 100, 2: 200, 3: 300, 4: 400, 5: 500}\n",
            "Sum of all the values in the given dictionary: 1500\n",
            "Sum of all keys in the given dictionary: 1515\n"
          ],
          "name": "stdout"
        }
      ]
    },
    {
      "cell_type": "markdown",
      "metadata": {
        "id": "Phkg3jHsdbuY",
        "colab_type": "text"
      },
      "source": [
        "7.Program to cocncatenate the following dictionaries and create a new one.\n",
        "\n",
        "dict1 = {1:10, 2:20}\n",
        "\n",
        "\n",
        "dict2 = {3:30, 4:40}\n",
        "\n",
        "dict3 = {5:50, 6:60}\n",
        "\n",
        "Expected Result: {1:10, 2:20, 3:30, 4:40, 5:50, 6:60}"
      ]
    },
    {
      "cell_type": "code",
      "metadata": {
        "id": "4vLVBhqAdn8F",
        "colab_type": "code",
        "colab": {
          "base_uri": "https://localhost:8080/",
          "height": 34
        },
        "outputId": "57e40944-e278-4353-dbbc-76d1614f7e24"
      },
      "source": [
        "dict1 = {1:10, 2:20}\n",
        "dict2 = {3:30, 4:40}\n",
        "dict3 = {5:50, 6:60}\n",
        "dict2.update(dict3)\n",
        "dict1.update(dict2)\n",
        "print(\"Required result:\",dict1)"
      ],
      "execution_count": 7,
      "outputs": [
        {
          "output_type": "stream",
          "text": [
            "Required result: {1: 10, 2: 20, 3: 30, 4: 40, 5: 50, 6: 60}\n"
          ],
          "name": "stdout"
        }
      ]
    }
  ]
}