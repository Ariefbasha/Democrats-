{
  "nbformat": 4,
  "nbformat_minor": 0,
  "metadata": {
    "colab": {
      "name": "24june",
      "provenance": [],
      "authorship_tag": "ABX9TyO8lpHB/fEMSyaK6K7+NWDv",
      "include_colab_link": true
    },
    "kernelspec": {
      "name": "python3",
      "display_name": "Python 3"
    }
  },
  "cells": [
    {
      "cell_type": "markdown",
      "metadata": {
        "id": "view-in-github",
        "colab_type": "text"
      },
      "source": [
        "<a href=\"https://colab.research.google.com/github/Ariefbasha/Democrats-/blob/master/24june.ipynb\" target=\"_parent\"><img src=\"https://colab.research.google.com/assets/colab-badge.svg\" alt=\"Open In Colab\"/></a>"
      ]
    },
    {
      "cell_type": "markdown",
      "metadata": {
        "id": "n9aYo6ri6_DU",
        "colab_type": "text"
      },
      "source": [
        "1. Program to find the area of a circle using math functions.\n",
        "\n"
      ]
    },
    {
      "cell_type": "code",
      "metadata": {
        "id": "UpaSo6Wk7C3h",
        "colab_type": "code",
        "colab": {
          "base_uri": "https://localhost:8080/",
          "height": 51
        },
        "outputId": "b24e9445-cb49-476e-ebb6-328d59aff1ee"
      },
      "source": [
        "import math\n",
        "radius= float(input(\"Enter the radius of the circle: \"))\n",
        "area= math.pi*(math.pow(radius,2))\n",
        "result= round(area,3)\n",
        "print(\"The area of the circle with radius\",radius,\"is:\",result)\n"
      ],
      "execution_count": 1,
      "outputs": [
        {
          "output_type": "stream",
          "text": [
            "Enter the radius of the circle: 4\n",
            "The area of the circle with radius 4.0 is: 50.265\n"
          ],
          "name": "stdout"
        }
      ]
    },
    {
      "cell_type": "markdown",
      "metadata": {
        "id": "i-_AojDx7T9q",
        "colab_type": "text"
      },
      "source": [
        "2. Program to find the area of a regular polygon using math functions.\n",
        "\n"
      ]
    },
    {
      "cell_type": "code",
      "metadata": {
        "id": "tIRVyd9K7cVK",
        "colab_type": "code",
        "colab": {
          "base_uri": "https://localhost:8080/",
          "height": 68
        },
        "outputId": "be36cb8c-5224-4c80-d798-004f797c87b9"
      },
      "source": [
        "s= float(input(\"Enter the length of any side: \"))\n",
        "n= int(input(\"Enter the number of sides in the regular polygon: \"))\n",
        "numerator= math.pow(s,2)*n\n",
        "denominator= 4*(math.tan(math.pi/n))\n",
        "area= numerator/denominator\n",
        "print(\"The area of the regular polygon is:\",area)\n"
      ],
      "execution_count": 2,
      "outputs": [
        {
          "output_type": "stream",
          "text": [
            "Enter the length of any side: 3\n",
            "Enter the number of sides in the regular polygon: 3\n",
            "The area of the regular polygon is: 3.8971143170299753\n"
          ],
          "name": "stdout"
        }
      ]
    },
    {
      "cell_type": "markdown",
      "metadata": {
        "id": "K16hTwUe7rr8",
        "colab_type": "text"
      },
      "source": [
        "3. Program to find the area of a segment of a circle using math functions.\n",
        "\n"
      ]
    },
    {
      "cell_type": "code",
      "metadata": {
        "id": "kAGDmOpM7xQv",
        "colab_type": "code",
        "colab": {
          "base_uri": "https://localhost:8080/",
          "height": 68
        },
        "outputId": "91290347-70dc-4857-a79c-cdad13d28dfd"
      },
      "source": [
        "import math\n",
        "r= float(input(\"Enter the radius of the circle: \"))\n",
        "c= int(input(\"Enter the value of central angle in degrees: \"))\n",
        "part_one= (math.pow(r,2))/2\n",
        "part_two= ((((math.pi)/180)*c)-math.sin(c))\n",
        "area= part_one*part_two\n",
        "print(\"Area of the segment of a circle of radius\",r, \"and central angle\",c,\"is:\",area)"
      ],
      "execution_count": 3,
      "outputs": [
        {
          "output_type": "stream",
          "text": [
            "Enter the radius of the circle: 5\n",
            "Enter the value of central angle in degrees: 40\n",
            "Area of the segment of a circle of radius 5.0 and central angle 40 is: -0.587268246020213\n"
          ],
          "name": "stdout"
        }
      ]
    },
    {
      "cell_type": "markdown",
      "metadata": {
        "id": "WsFJejQs8Ca2",
        "colab_type": "text"
      },
      "source": [
        "4. Program to shuffle a list.\n",
        "\n"
      ]
    },
    {
      "cell_type": "code",
      "metadata": {
        "id": "l8KSGr0W8Jf3",
        "colab_type": "code",
        "colab": {
          "base_uri": "https://localhost:8080/",
          "height": 51
        },
        "outputId": "1be9db1c-d8f7-4c52-fe07-a12e85ab0bdb"
      },
      "source": [
        "from random import shuffle\n",
        "mylist=[100,1,2,3,30,40,\"hey\",\"hello\"]\n",
        "print(\"List before shuffling:\",mylist)\n",
        "shuffle(mylist)\n",
        "print(\"List after shuffling:\",mylist)"
      ],
      "execution_count": 4,
      "outputs": [
        {
          "output_type": "stream",
          "text": [
            "List before shuffling: [100, 1, 2, 3, 30, 40, 'hey', 'hello']\n",
            "List after shuffling: [3, 'hello', 30, 1, 40, 'hey', 100, 2]\n"
          ],
          "name": "stdout"
        }
      ]
    },
    {
      "cell_type": "code",
      "metadata": {
        "id": "si4vC70_8c8z",
        "colab_type": "code",
        "colab": {}
      },
      "source": [
        "5. Program to generate random numbers between 1 and 10,000 and difference between each random number is 50.\n",
        "\n"
      ],
      "execution_count": null,
      "outputs": []
    },
    {
      "cell_type": "code",
      "metadata": {
        "id": "oRlHUW788e1x",
        "colab_type": "code",
        "colab": {
          "base_uri": "https://localhost:8080/",
          "height": 34
        },
        "outputId": "886b6975-fb38-4a59-8def-9812fa074838"
      },
      "source": [
        "import random\n",
        "print(\"Random number between 1 and 10000 which has a step of 50:\",random.randrange(1,10000,50))\n"
      ],
      "execution_count": 5,
      "outputs": [
        {
          "output_type": "stream",
          "text": [
            "Random number between 1 and 10000 which has a step of 50: 5001\n"
          ],
          "name": "stdout"
        }
      ]
    },
    {
      "cell_type": "code",
      "metadata": {
        "id": "rOZoXmXw80nJ",
        "colab_type": "code",
        "colab": {
          "base_uri": "https://localhost:8080/",
          "height": 34
        },
        "outputId": "0b9481fd-4276-4baa-8f30-f639210119b1"
      },
      "source": [
        "import random\n",
        "print(\"Random number between 1 and 10000 which has a step of 50:\",random.randrange(1,10000,50))"
      ],
      "execution_count": 6,
      "outputs": [
        {
          "output_type": "stream",
          "text": [
            "Random number between 1 and 10000 which has a step of 50: 8451\n"
          ],
          "name": "stdout"
        }
      ]
    },
    {
      "cell_type": "code",
      "metadata": {
        "id": "ODrmobhA9FAW",
        "colab_type": "code",
        "colab": {
          "base_uri": "https://localhost:8080/",
          "height": 34
        },
        "outputId": "d8144766-2993-435a-9cbc-935bca90ca0c"
      },
      "source": [
        "import random\n",
        "print(\"Random number between 1 and 10000 which has a step of 50:\",random.randrange(1,10000,50))"
      ],
      "execution_count": 7,
      "outputs": [
        {
          "output_type": "stream",
          "text": [
            "Random number between 1 and 10000 which has a step of 50: 1851\n"
          ],
          "name": "stdout"
        }
      ]
    },
    {
      "cell_type": "markdown",
      "metadata": {
        "id": "jZfe5Oi69SQ_",
        "colab_type": "text"
      },
      "source": [
        "\n",
        "6. Program to find the following using math functions:\n",
        "\n",
        "1.sin 60\n",
        "2.cos(pi)\n",
        "3.tan 90\n",
        "4.angle of sin(0.8660254037844386)\n",
        "5.5^8\n",
        "6.square root of 400\n",
        "7.value of 5^e\n",
        "8value of log(1024), base 2\n",
        "9.value of log(1024), base 10\n",
        "10.floor and ceiling values of 23.56"
      ]
    },
    {
      "cell_type": "code",
      "metadata": {
        "id": "1Nltz_Do9TXZ",
        "colab_type": "code",
        "colab": {
          "base_uri": "https://localhost:8080/",
          "height": 204
        },
        "outputId": "6fdb8385-954b-4311-90d0-134777721f75"
      },
      "source": [
        "import math\n",
        "print(\"Sine of 60=\",math.sin(60))\n",
        "print(\"Cos of pi=\",math.cos(math.pi))\n",
        "print(\"Tan of 90=\",math.tan(90))\n",
        "print(\"Angle of sin 0.8660254037844386=\",math.sin(0.8660254037844386))\n",
        "print(\"5^8=\",math.pow(5,8))\n",
        "print(\"Square root of 400=\",math.sqrt(400))\n",
        "print(\"The value of 5^e=\",math.pow(5,math.e))\n",
        "print(\"Log(1024), base 2=\",math.log(1024,2))\n",
        "print(\"Log(1024), base 10=\",math.log(1024,10))\n",
        "print(\"Floor of 23.56=\",math.floor(23.56))\n",
        "print(\"Ceiling of 23.56=\",math.ceil(23.56))"
      ],
      "execution_count": 8,
      "outputs": [
        {
          "output_type": "stream",
          "text": [
            "Sine of 60= -0.3048106211022167\n",
            "Cos of pi= -1.0\n",
            "Tan of 90= -1.995200412208242\n",
            "Angle of sin 0.8660254037844386= 0.7617599814162892\n",
            "5^8= 390625.0\n",
            "Square root of 400= 20.0\n",
            "The value of 5^e= 79.43235916621322\n",
            "Log(1024), base 2= 10.0\n",
            "Log(1024), base 10= 3.0102999566398116\n",
            "Floor of 23.56= 23\n",
            "Ceiling of 23.56= 24\n"
          ],
          "name": "stdout"
        }
      ]
    }
  ]
}
