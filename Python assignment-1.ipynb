{
  "nbformat": 4,
  "nbformat_minor": 0,
  "metadata": {
    "colab": {
      "name": "Untitled10.ipynb",
      "provenance": [],
      "authorship_tag": "ABX9TyPd/NhowBSfpvzYAQ4R+Hra",
      "include_colab_link": true
    },
    "kernelspec": {
      "name": "python3",
      "display_name": "Python 3"
    }
  },
  "cells": [
    {
      "cell_type": "markdown",
      "metadata": {
        "id": "view-in-github",
        "colab_type": "text"
      },
      "source": [
        "<a href=\"https://colab.research.google.com/github/Ariefbasha/Democrats-/blob/master/Python%20assignment-1.ipynb\" target=\"_parent\"><img src=\"https://colab.research.google.com/assets/colab-badge.svg\" alt=\"Open In Colab\"/></a>"
      ]
    },
    {
      "cell_type": "markdown",
      "metadata": {
        "id": "l2FNpWgpHvJa"
      },
      "source": [
        " 1.Find minimum among three numbers"
      ]
    },
    {
      "cell_type": "code",
      "metadata": {
        "id": "k3UpoaFUH_g_",
        "outputId": "b9849e1e-994c-4370-c09f-686a4c391707",
        "colab": {
          "base_uri": "https://localhost:8080/",
          "height": 106
        }
      },
      "source": [
        " def minimum(a,b,c):\n",
        "  if (a<b) and (a<c):\n",
        "    smallest = a\n",
        "  elif (b<a) and (b<c):\n",
        "    smallest = b\n",
        "  else:\n",
        "    largest = c\n",
        "  return smallest\n",
        "a=int(input('Enter first number'))\n",
        "b=int(input('Enter second number'))\n",
        "c=int(input('Enter third number'))\n",
        "print(\"The minimum of three numbers is\" , +minimum(a,b,c))"
      ],
      "execution_count": 1,
      "outputs": [
        {
          "output_type": "stream",
          "text": [
            "Enter first number5\n",
            "Enter second number2\n",
            "Enter third number8\n",
            "The minimum of three numbers is 2\n"
          ],
          "name": "stdout"
        }
      ]
    },
    {
      "cell_type": "markdown",
      "metadata": {
        "id": "I9al7UifIQCb"
      },
      "source": [
        " 2.Find the GCD and LCM oftwo/three numbers"
      ]
    },
    {
      "cell_type": "code",
      "metadata": {
        "id": "Onc6wAsCIT3W",
        "outputId": "1dad702d-286a-4fc1-8007-1b0826b5a480",
        "colab": {
          "base_uri": "https://localhost:8080/",
          "height": 34
        }
      },
      "source": [
        " def gcd(x,y):\n",
        "  if x > y :\n",
        "    smaller = y\n",
        "  else:\n",
        "    smaller = x\n",
        "  for i in range(1, smaller+1):\n",
        "    if((x % i == 0) and (y % i ==0)):\n",
        "      gcd = i\n",
        "  return gcd\n",
        "n1 = 11\n",
        "n2 = 15\n",
        "print(\"The GCD is \", gcd(n1,n2))"
      ],
      "execution_count": 3,
      "outputs": [
        {
          "output_type": "stream",
          "text": [
            "The GCD is  1\n"
          ],
          "name": "stdout"
        }
      ]
    },
    {
      "cell_type": "code",
      "metadata": {
        "id": "vdaOMiabInKh",
        "outputId": "32f71865-95e3-4379-aadc-109b24973278",
        "colab": {
          "base_uri": "https://localhost:8080/",
          "height": 34
        }
      },
      "source": [
        " lcm = n1 * n2 / gcd(n1,n2)\n",
        "print(\"LCM of %d and %d is %d\" %(n1,n2,lcm))"
      ],
      "execution_count": 4,
      "outputs": [
        {
          "output_type": "stream",
          "text": [
            "LCM of 11 and 15 is 165\n"
          ],
          "name": "stdout"
        }
      ]
    },
    {
      "cell_type": "markdown",
      "metadata": {
        "id": "2OD4vFV5Ip3i"
      },
      "source": [
        " 3.Check whether the given number is perfect."
      ]
    },
    {
      "cell_type": "code",
      "metadata": {
        "id": "AQdAWqkLIs9l",
        "outputId": "9bf94455-f4a8-4331-ae29-1a17668ddd01",
        "colab": {
          "base_uri": "https://localhost:8080/",
          "height": 71
        }
      },
      "source": [
        " x = int(input(\"Enter any number: \"))\n",
        "sum = 0\n",
        "for i in range(1,x):\n",
        "  if(x % i == 0):\n",
        "    sum = sum + i\n",
        "if (sum == x):\n",
        "  print(\"The number is a perfect number \")\n",
        "else:\n",
        "  print(\"The number is not a perfect number \")"
      ],
      "execution_count": 5,
      "outputs": [
        {
          "output_type": "stream",
          "text": [
            "Enter any number: 2\n",
            "The number is not a perfect number \n"
          ],
          "name": "stdout"
        }
      ]
    },
    {
      "cell_type": "markdown",
      "metadata": {
        "id": "wt8uw0amI5ZW"
      },
      "source": [
        " 4.Print Twin primes upto a specified limit."
      ]
    },
    {
      "cell_type": "code",
      "metadata": {
        "id": "f4rgGckNI6Oz",
        "outputId": "974f8f49-5b73-4d27-abfb-45662105cc1f",
        "colab": {
          "base_uri": "https://localhost:8080/",
          "height": 155
        }
      },
      "source": [
        " def prime(n):\n",
        "  for i in range(2, n):\n",
        "    if n % i == 0:\n",
        "      return False\n",
        "  return True\n",
        "def twin_primes(start, end):\n",
        "  for i in range(start, end):\n",
        "    j = i + 2\n",
        "    if(prime(i) and prime(j)):\n",
        "      print(\"{:d} and {:d}\" .format(i, j))\n",
        "twin_primes(3,90)"
      ],
      "execution_count": 6,
      "outputs": [
        {
          "output_type": "stream",
          "text": [
            "3 and 5\n",
            "5 and 7\n",
            "11 and 13\n",
            "17 and 19\n",
            "29 and 31\n",
            "41 and 43\n",
            "59 and 61\n",
            "71 and 73\n"
          ],
          "name": "stdout"
        }
      ]
    },
    {
      "cell_type": "markdown",
      "metadata": {
        "id": "sDFfaW7OJEiU"
      },
      "source": [
        " 5.Print the prime numbers upto a specified limit."
      ]
    },
    {
      "cell_type": "code",
      "metadata": {
        "id": "m9_NA76zJHd8",
        "outputId": "78f4f90a-8bb4-404b-8597-64923e90eafa",
        "colab": {
          "base_uri": "https://localhost:8080/",
          "height": 294
        }
      },
      "source": [
        " lower = int(input(\"Enter lower range: \"))\n",
        "upper = int(input(\"Enter upper range: \"))\n",
        "for n in range(lower,upper+1):\n",
        "  if n>1:\n",
        "    for i in range(2,n):\n",
        "      if(n % i) == 0:\n",
        "        break\n",
        "    else:\n",
        "      print(n)"
      ],
      "execution_count": 7,
      "outputs": [
        {
          "output_type": "stream",
          "text": [
            "Enter lower range: 5\n",
            "Enter upper range: 55\n",
            "5\n",
            "7\n",
            "11\n",
            "13\n",
            "17\n",
            "19\n",
            "23\n",
            "29\n",
            "31\n",
            "37\n",
            "41\n",
            "43\n",
            "47\n",
            "53\n"
          ],
          "name": "stdout"
        }
      ]
    },
    {
      "cell_type": "markdown",
      "metadata": {
        "id": "ZhWx0e0jJSgn"
      },
      "source": [
        " 6.Find the sum of digits of a number.Check whether given number is Amstrong number or not."
      ]
    },
    {
      "cell_type": "code",
      "metadata": {
        "id": "reli7cnHJWWm",
        "outputId": "19485f87-5e8b-4883-96f4-e33192e7c572",
        "colab": {
          "base_uri": "https://localhost:8080/",
          "height": 51
        }
      },
      "source": [
        " num = int(input(\"Enter a number: \"))\n",
        "sum = 0\n",
        "temp = num\n",
        "while temp > 0:\n",
        "  digit = temp % 10\n",
        "  sum += digit ** 3\n",
        "  temp //= 10\n",
        "if num == sum:\n",
        "  print(num,\" is an Armstrong number\")\n",
        "else:\n",
        "  print(num,\" is not an Armstrong number\")"
      ],
      "execution_count": 8,
      "outputs": [
        {
          "output_type": "stream",
          "text": [
            "Enter a number: 15\n",
            "15  is not an Armstrong number\n"
          ],
          "name": "stdout"
        }
      ]
    },
    {
      "cell_type": "markdown",
      "metadata": {
        "id": "Go2Vp7zuJhpM"
      },
      "source": [
        " 7.Swapping of two numbers."
      ]
    },
    {
      "cell_type": "code",
      "metadata": {
        "id": "68RASan2Jimj",
        "outputId": "816260a2-2093-497f-82c8-f10372c959f2",
        "colab": {
          "base_uri": "https://localhost:8080/",
          "height": 141
        }
      },
      "source": [
        " x=int(input(\"Enter the first value \"))\n",
        "y=int(input(\"Enter the second value \"))\n",
        "print(\"The value of x before swapping: \", x)\n",
        "print(\"The value of y before swapping: \", y)\n",
        "1\n",
        "temp = x\n",
        "x = y\n",
        "y = temp\n",
        "print(\"The value of x after swapping \",x)\n",
        "print(\"The value of y after swapping \",y)"
      ],
      "execution_count": 9,
      "outputs": [
        {
          "output_type": "stream",
          "text": [
            "Enter the first value 12\n",
            "Enter the second value 2\n",
            "The value of x before swapping:  12\n",
            "The value of y before swapping:  2\n",
            "The value of x after swapping  2\n",
            "The value of y after swapping  12\n"
          ],
          "name": "stdout"
        }
      ]
    },
    {
      "cell_type": "markdown",
      "metadata": {
        "id": "VIIaqEGoJq2T"
      },
      "source": [
        " 8.Performs all the five arithmetic operations."
      ]
    },
    {
      "cell_type": "code",
      "metadata": {
        "id": "-wShp2H2Jt3v",
        "outputId": "3afb2049-ed1e-43dd-8154-3c628d881ce4",
        "colab": {
          "base_uri": "https://localhost:8080/",
          "height": 158
        }
      },
      "source": [
        " n1 = int(input(\"Enter first number: \"))\n",
        "n2 = int(input(\"Enter second number: \"))\n",
        "sum = n1 + n2\n",
        "diff = n1 - n2\n",
        "mul = n1 * n2\n",
        "div = n1 / n2\n",
        "mod = n1 % n2\n",
        "print(\"The sum of {0} and {1} is {2} \".format(n1,n2,sum))\n",
        "print(\"The diff of {0} and {1} is {2} \".format(n1,n2,diff))\n",
        "print(\"The mul of {0} and {1} is {2} \".format(n1,n2,mul))\n",
        "print(\"The div of {0} and {1} is {2} \".format(n1,n2,div))\n",
        "print(\"The mod of {0} and {1} is {2} \".format(n1,n2,mod))"
      ],
      "execution_count": 10,
      "outputs": [
        {
          "output_type": "stream",
          "text": [
            "Enter first number: 2\n",
            "Enter second number: 3\n",
            "The sum of 2 and 3 is 5 \n",
            "The diff of 2 and 3 is -1 \n",
            "The mul of 2 and 3 is 6 \n",
            "The div of 2 and 3 is 0.6666666666666666 \n",
            "The mod of 2 and 3 is 2 \n"
          ],
          "name": "stdout"
        }
      ]
    }
  ]
}