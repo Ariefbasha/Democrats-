{
  "nbformat": 4,
  "nbformat_minor": 0,
  "metadata": {
    "colab": {
      "name": "Untitled0.ipynb",
      "provenance": [],
      "authorship_tag": "ABX9TyP58rOMajZClowp1DNE50uO",
      "include_colab_link": true
    },
    "kernelspec": {
      "name": "python3",
      "display_name": "Python 3"
    }
  },
  "cells": [
    {
      "cell_type": "markdown",
      "metadata": {
        "id": "view-in-github",
        "colab_type": "text"
      },
      "source": [
        "<a href=\"https://colab.research.google.com/github/Ariefbasha/Democrats-/blob/master/26june.ipynb\" target=\"_parent\"><img src=\"https://colab.research.google.com/assets/colab-badge.svg\" alt=\"Open In Colab\"/></a>"
      ]
    },
    {
      "cell_type": "markdown",
      "metadata": {
        "id": "5fs06UQ6RG1i",
        "colab_type": "text"
      },
      "source": [
        ""
      ]
    },
    {
      "cell_type": "markdown",
      "metadata": {
        "id": "0Ijf2NNbRG4e",
        "colab_type": "text"
      },
      "source": [
        "1. Program to calculate the length of a string.\n",
        "\n"
      ]
    },
    {
      "cell_type": "code",
      "metadata": {
        "id": "Cb3HotpQRLYz",
        "colab_type": "code",
        "colab": {
          "base_uri": "https://localhost:8080/",
          "height": 51
        },
        "outputId": "c6398992-7a5a-44f7-dc53-d0ce9588c5a5"
      },
      "source": [
        "string=input(\"Enter a string: \")\n",
        "length=len(string)\n",
        "print(\"The length of\",string,\"is\",length)"
      ],
      "execution_count": 1,
      "outputs": [
        {
          "output_type": "stream",
          "text": [
            "Enter a string: vector\n",
            "The length of vector is 6\n"
          ],
          "name": "stdout"
        }
      ]
    },
    {
      "cell_type": "markdown",
      "metadata": {
        "id": "69GndgQvRWuE",
        "colab_type": "text"
      },
      "source": [
        "2. Program to find the character frequency in a string.\n",
        "\n"
      ]
    },
    {
      "cell_type": "code",
      "metadata": {
        "id": "aWUWRsYeRbGl",
        "colab_type": "code",
        "colab": {
          "base_uri": "https://localhost:8080/",
          "height": 51
        },
        "outputId": "a7a23e5f-5116-472e-d7a6-c5ab6bd803bd"
      },
      "source": [
        "string=input(\"Enter a string: \")\n",
        "frequency={}\n",
        "for i in string:\n",
        "    if i in frequency:\n",
        "        frequency[i]+=1\n",
        "    else:\n",
        "        frequency[i]=1\n",
        "print(\"Character frequency\",string,\"is:\",frequency)"
      ],
      "execution_count": 2,
      "outputs": [
        {
          "output_type": "stream",
          "text": [
            "Enter a string: mom\n",
            "Character frequency mom is: {'m': 2, 'o': 1}\n"
          ],
          "name": "stdout"
        }
      ]
    },
    {
      "cell_type": "markdown",
      "metadata": {
        "id": "PSLPNChFRqp_",
        "colab_type": "text"
      },
      "source": [
        "3. Program to get a single string from two given strings, separated by a space and swap the first character of each string.\n",
        "\n"
      ]
    },
    {
      "cell_type": "code",
      "metadata": {
        "id": "gQwnKKygRsll",
        "colab_type": "code",
        "colab": {
          "base_uri": "https://localhost:8080/",
          "height": 85
        },
        "outputId": "69cfaff7-292f-481e-c997-7baae63e5cf5"
      },
      "source": [
        "str1= input(\"Enter the first string: \")\n",
        "str2= input(\"Enter the secnd string: \")\n",
        "str1_swap= str2[:1]+str1[1:]\n",
        "str2_swap= str1[:1]+str2[1:]\n",
        "#n=str1.pop(0)\n",
        "#m=str2.pop(0)\n",
        "#p=list(str1_swap)\n",
        "#q=list(str2_swap)\n",
        "#str1=m+p\n",
        "#str2=n+q\n",
        "print(str1_swap)\n",
        "print(str2_swap)"
      ],
      "execution_count": 3,
      "outputs": [
        {
          "output_type": "stream",
          "text": [
            "Enter the first string: ball\n",
            "Enter the secnd string: cell\n",
            "call\n",
            "bell\n"
          ],
          "name": "stdout"
        }
      ]
    },
    {
      "cell_type": "markdown",
      "metadata": {
        "id": "CH59WYgHSBQL",
        "colab_type": "text"
      },
      "source": [
        "4. Take input from the user and displays that input back in upper and lower cases.\n",
        "\n"
      ]
    },
    {
      "cell_type": "code",
      "metadata": {
        "id": "pGq3Lul5SD4q",
        "colab_type": "code",
        "colab": {
          "base_uri": "https://localhost:8080/",
          "height": 51
        },
        "outputId": "609aec46-af92-4af3-8168-948d49a804b4"
      },
      "source": [
        "string= input(\"Enter a string: \")\n",
        "upper_case=string.upper()\n",
        "lower_case=string.lower()\n",
        "print(\"The string\",string,\"in upper case is\",upper_case,\"and in lower case is\",lower_case)"
      ],
      "execution_count": 4,
      "outputs": [
        {
          "output_type": "stream",
          "text": [
            "Enter a string: vector\n",
            "The string vector in upper case is VECTOR and in lower case is vector\n"
          ],
          "name": "stdout"
        }
      ]
    },
    {
      "cell_type": "markdown",
      "metadata": {
        "id": "rDhqpBtxSaA6",
        "colab_type": "text"
      },
      "source": [
        "5. Program to remove a newline.\n",
        "\n"
      ]
    },
    {
      "cell_type": "code",
      "metadata": {
        "id": "q60YO5GdSeGz",
        "colab_type": "code",
        "colab": {
          "base_uri": "https://localhost:8080/",
          "height": 35
        },
        "outputId": "df381948-234d-41ce-ee7c-a333e8106e6d"
      },
      "source": [
        "string= \"Python\\n\"\n",
        "string.rstrip('\\n')"
      ],
      "execution_count": 5,
      "outputs": [
        {
          "output_type": "execute_result",
          "data": {
            "application/vnd.google.colaboratory.intrinsic": {
              "type": "string"
            },
            "text/plain": [
              "'Python'"
            ]
          },
          "metadata": {
            "tags": []
          },
          "execution_count": 5
        }
      ]
    },
    {
      "cell_type": "markdown",
      "metadata": {
        "id": "jxhzT1bbSjCE",
        "colab_type": "text"
      },
      "source": [
        "6. Program to count occurrences of a substring in a string.\n",
        "\n"
      ]
    },
    {
      "cell_type": "code",
      "metadata": {
        "id": "x5xcrptRSmre",
        "colab_type": "code",
        "colab": {
          "base_uri": "https://localhost:8080/",
          "height": 68
        },
        "outputId": "038fc222-2f65-4148-905c-9c1ad3719ebc"
      },
      "source": [
        "string= input(\"Enter a string: \")\n",
        "substr= input(\"Enter a substring present in the string: \")\n",
        "string.count(substr)\n"
      ],
      "execution_count": 6,
      "outputs": [
        {
          "output_type": "stream",
          "text": [
            "Enter a string: date\n",
            "Enter a substring present in the string: at\n"
          ],
          "name": "stdout"
        },
        {
          "output_type": "execute_result",
          "data": {
            "text/plain": [
              "1"
            ]
          },
          "metadata": {
            "tags": []
          },
          "execution_count": 6
        }
      ]
    },
    {
      "cell_type": "code",
      "metadata": {
        "id": "V7NFt2gtTF8H",
        "colab_type": "code",
        "colab": {
          "base_uri": "https://localhost:8080/",
          "height": 68
        },
        "outputId": "1f8b5f21-a3d0-4ab7-af3e-ae098c073acf"
      },
      "source": [
        "string= input(\"Enter a string: \")\n",
        "substr= input(\"Enter a substring present in the string: \")\n",
        "freq=len(string.split(substr))\n",
        "print(\"Number of times the substring '\",substr,\"' has repeated in\",string,\"is:\",freq-1)"
      ],
      "execution_count": 7,
      "outputs": [
        {
          "output_type": "stream",
          "text": [
            "Enter a string: date\n",
            "Enter a substring present in the string: at\n",
            "Number of times the substring ' at ' has repeated in date is: 1\n"
          ],
          "name": "stdout"
        }
      ]
    },
    {
      "cell_type": "markdown",
      "metadata": {
        "id": "PireVuHwTQkW",
        "colab_type": "text"
      },
      "source": [
        "7. Program to convert a string in a list.\n",
        "\n"
      ]
    },
    {
      "cell_type": "code",
      "metadata": {
        "id": "xqPiAaZ4TTyr",
        "colab_type": "code",
        "colab": {
          "base_uri": "https://localhost:8080/",
          "height": 51
        },
        "outputId": "2d1312a0-5bef-41af-b40c-d09a238ca6e5"
      },
      "source": [
        "string=input(\"Enter a string: \")\n",
        "mylist=list(string)\n",
        "print(\"Converted list is\",mylist)"
      ],
      "execution_count": 8,
      "outputs": [
        {
          "output_type": "stream",
          "text": [
            "Enter a string: name\n",
            "Converted list is ['n', 'a', 'm', 'e']\n"
          ],
          "name": "stdout"
        }
      ]
    },
    {
      "cell_type": "markdown",
      "metadata": {
        "id": "ED9i3FdiTds1",
        "colab_type": "text"
      },
      "source": [
        "8. Program to delete a character.\n",
        "\n"
      ]
    },
    {
      "cell_type": "code",
      "metadata": {
        "id": "M04uYu4WTjNH",
        "colab_type": "code",
        "colab": {
          "base_uri": "https://localhost:8080/",
          "height": 85
        },
        "outputId": "3049bbf8-e319-415a-8a77-47c67bbea9ba"
      },
      "source": [
        "string=input(\"Enter a string: \")\n",
        "char=input(\"Enter the character to delete: \")\n",
        "print(\"The resultant string is\",string.replace(char,\"\"))\n",
        "print(\"The deleted char is\",char,\".\")"
      ],
      "execution_count": 9,
      "outputs": [
        {
          "output_type": "stream",
          "text": [
            "Enter a string: string\n",
            "Enter the character to delete: g\n",
            "The resultant string is strin\n",
            "The deleted char is g .\n"
          ],
          "name": "stdout"
        }
      ]
    },
    {
      "cell_type": "markdown",
      "metadata": {
        "id": "CM54gMXmTyaA",
        "colab_type": "text"
      },
      "source": [
        "9. Program to print every character of a string entered by user in a new line using loop.\n",
        "\n"
      ]
    },
    {
      "cell_type": "code",
      "metadata": {
        "id": "7J0iigxOT1hQ",
        "colab_type": "code",
        "colab": {
          "base_uri": "https://localhost:8080/",
          "height": 102
        },
        "outputId": "26409b69-7e79-4623-8b83-bbb205ad04a6"
      },
      "source": [
        "\n",
        "string=input(\"Enter a string: \")\n",
        "print(\"Characters in the string\",string,\"are:\")\n",
        "for i in string:\n",
        "    print(i)"
      ],
      "execution_count": 10,
      "outputs": [
        {
          "output_type": "stream",
          "text": [
            "Enter a string: cat\n",
            "Characters in the string cat are:\n",
            "c\n",
            "a\n",
            "t\n"
          ],
          "name": "stdout"
        }
      ]
    },
    {
      "cell_type": "markdown",
      "metadata": {
        "id": "Cv_laSeaUJVg",
        "colab_type": "text"
      },
      "source": [
        "10. Program to find the length of the string \"refrigerator\" without using len function.\n",
        "\n"
      ]
    },
    {
      "cell_type": "code",
      "metadata": {
        "id": "Y_5XQrktUNCM",
        "colab_type": "code",
        "colab": {
          "base_uri": "https://localhost:8080/",
          "height": 34
        },
        "outputId": "de98a117-9d0d-4ce7-db5d-b84def97bef0"
      },
      "source": [
        "string= \"refrigerator\"\n",
        "length=0\n",
        "for i in string:\n",
        "    length+=1\n",
        "print(\"The length of the string\",string,\"is:\",length)"
      ],
      "execution_count": 11,
      "outputs": [
        {
          "output_type": "stream",
          "text": [
            "The length of the string refrigerator is: 12\n"
          ],
          "name": "stdout"
        }
      ]
    }
  ]
}