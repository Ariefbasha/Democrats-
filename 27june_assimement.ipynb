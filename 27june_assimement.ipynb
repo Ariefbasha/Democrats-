{
  "nbformat": 4,
  "nbformat_minor": 0,
  "metadata": {
    "colab": {
      "name": "27june assimement ",
      "provenance": [],
      "authorship_tag": "ABX9TyM85n5jg5Taq+ZBhyGCPifv",
      "include_colab_link": true
    },
    "kernelspec": {
      "name": "python3",
      "display_name": "Python 3"
    }
  },
  "cells": [
    {
      "cell_type": "markdown",
      "metadata": {
        "id": "view-in-github",
        "colab_type": "text"
      },
      "source": [
        "<a href=\"https://colab.research.google.com/github/Ariefbasha/Democrats-/blob/master/27june_assimement.ipynb\" target=\"_parent\"><img src=\"https://colab.research.google.com/assets/colab-badge.svg\" alt=\"Open In Colab\"/></a>"
      ]
    },
    {
      "cell_type": "markdown",
      "metadata": {
        "id": "WeGFCALD0Xlv",
        "colab_type": "text"
      },
      "source": [
        "Write a program that prints the integers from 1 to 100. But for multiples of three print \"Fizz\" instead of the number, and for the multiples of five print \"Buzz\". For numbers which are multiples of both three and five print \"FizzBuzz\"¶"
      ]
    },
    {
      "cell_type": "code",
      "metadata": {
        "id": "UmPzUn_k0C1T",
        "colab_type": "code",
        "colab": {
          "base_uri": "https://localhost:8080/",
          "height": 1000
        },
        "outputId": "c457b426-0640-4764-c1ef-0856c73d8e9d"
      },
      "source": [
        " \n",
        "for fizzbuzz in range(100):\n",
        "    if fizzbuzz % 15 == 0:  \n",
        "        print(\"FizzBuzz\")                                          \n",
        "        continue \n",
        "    elif fizzbuzz%3==0:      \n",
        "        print(\"Fizz\")                                          \n",
        "        continue \n",
        "    elif fizzbuzz%5==0:          \n",
        "        print(\"Buzz\")                                      \n",
        "        continue\n",
        "    print(fizzbuzz)"
      ],
      "execution_count": 2,
      "outputs": [
        {
          "output_type": "stream",
          "text": [
            "FizzBuzz\n",
            "1\n",
            "2\n",
            "Fizz\n",
            "4\n",
            "Buzz\n",
            "Fizz\n",
            "7\n",
            "8\n",
            "Fizz\n",
            "Buzz\n",
            "11\n",
            "Fizz\n",
            "13\n",
            "14\n",
            "FizzBuzz\n",
            "16\n",
            "17\n",
            "Fizz\n",
            "19\n",
            "Buzz\n",
            "Fizz\n",
            "22\n",
            "23\n",
            "Fizz\n",
            "Buzz\n",
            "26\n",
            "Fizz\n",
            "28\n",
            "29\n",
            "FizzBuzz\n",
            "31\n",
            "32\n",
            "Fizz\n",
            "34\n",
            "Buzz\n",
            "Fizz\n",
            "37\n",
            "38\n",
            "Fizz\n",
            "Buzz\n",
            "41\n",
            "Fizz\n",
            "43\n",
            "44\n",
            "FizzBuzz\n",
            "46\n",
            "47\n",
            "Fizz\n",
            "49\n",
            "Buzz\n",
            "Fizz\n",
            "52\n",
            "53\n",
            "Fizz\n",
            "Buzz\n",
            "56\n",
            "Fizz\n",
            "58\n",
            "59\n",
            "FizzBuzz\n",
            "61\n",
            "62\n",
            "Fizz\n",
            "64\n",
            "Buzz\n",
            "Fizz\n",
            "67\n",
            "68\n",
            "Fizz\n",
            "Buzz\n",
            "71\n",
            "Fizz\n",
            "73\n",
            "74\n",
            "FizzBuzz\n",
            "76\n",
            "77\n",
            "Fizz\n",
            "79\n",
            "Buzz\n",
            "Fizz\n",
            "82\n",
            "83\n",
            "Fizz\n",
            "Buzz\n",
            "86\n",
            "Fizz\n",
            "88\n",
            "89\n",
            "FizzBuzz\n",
            "91\n",
            "92\n",
            "Fizz\n",
            "94\n",
            "Buzz\n",
            "Fizz\n",
            "97\n",
            "98\n",
            "Fizz\n"
          ],
          "name": "stdout"
        }
      ]
    },
    {
      "cell_type": "markdown",
      "metadata": {
        "id": "Vr_z_beQ0kun",
        "colab_type": "text"
      },
      "source": [
        " \n",
        "Write a python program to find unique element from a list."
      ]
    },
    {
      "cell_type": "code",
      "metadata": {
        "id": "L3sygWMP0qbP",
        "colab_type": "code",
        "colab": {
          "base_uri": "https://localhost:8080/",
          "height": 138
        },
        "outputId": "955495ad-09b2-4cb3-cd0a-62fa0431448b"
      },
      "source": [
        " \n",
        "list1=[1,2,3,2,1,4,6,4,7]\n",
        "res=[]\n",
        "for i in list1: \n",
        "    if i not in res: \n",
        "        res.append(i) \n",
        "print(\"Unique elements of the list\")    \n",
        "for i in res: \n",
        "    print(i)"
      ],
      "execution_count": 3,
      "outputs": [
        {
          "output_type": "stream",
          "text": [
            "Unique elements of the list\n",
            "1\n",
            "2\n",
            "3\n",
            "4\n",
            "6\n",
            "7\n"
          ],
          "name": "stdout"
        }
      ]
    },
    {
      "cell_type": "markdown",
      "metadata": {
        "id": "fz7NBzJE05yr",
        "colab_type": "text"
      },
      "source": [
        " Write a function that checks whether a number is in a given range (inclusive ofhigh and lo"
      ]
    },
    {
      "cell_type": "code",
      "metadata": {
        "id": "OcbfCoMz0_6u",
        "colab_type": "code",
        "colab": {
          "base_uri": "https://localhost:8080/",
          "height": 34
        },
        "outputId": "064f4a34-fef6-4755-ce0e-997954cfe994"
      },
      "source": [
        " \n",
        "def check(n):\n",
        "    if n in range(3,9):\n",
        "        print( \" %s is in the range\"%str(n))\n",
        "    else :\n",
        "        print(\"The number is outside the given range.\")\n",
        "check(5)"
      ],
      "execution_count": 4,
      "outputs": [
        {
          "output_type": "stream",
          "text": [
            " 5 is in the range\n"
          ],
          "name": "stdout"
        }
      ]
    },
    {
      "cell_type": "markdown",
      "metadata": {
        "id": "yFiFUZIa1gH2",
        "colab_type": "text"
      },
      "source": [
        " \n",
        "Write a Python function that accepts a string and calculates the number of upper case letters and lower case letters"
      ]
    },
    {
      "cell_type": "code",
      "metadata": {
        "id": "AU-BI9172OdR",
        "colab_type": "code",
        "colab": {
          "base_uri": "https://localhost:8080/",
          "height": 69
        },
        "outputId": "52f4b109-4ec6-4e72-f847-8d4c47f2ea66"
      },
      "source": [
        " \n",
        "def string1(s):\n",
        "    d={\"UPPER_CASE\":0, \"LOWER_CASE\":0}\n",
        "    for c in s:\n",
        "        if c.isupper():\n",
        "           d[\"UPPER_CASE\"]+=1\n",
        "        elif c.islower():\n",
        "           d[\"LOWER_CASE\"]+=1\n",
        "        else:\n",
        "           pass\n",
        "    print (\"Original String:\", s)\n",
        "    print (\"No. of Upper case characters:\", d[\"UPPER_CASE\"])\n",
        "    print (\"No. of Lower case Characters:\", d[\"LOWER_CASE\"])\n",
        " \n",
        "string1('Hannah Baker')"
      ],
      "execution_count": 6,
      "outputs": [
        {
          "output_type": "stream",
          "text": [
            "Original String: Hannah Baker\n",
            "No. of Upper case characters: 2\n",
            "No. of Lower case Characters: 9\n"
          ],
          "name": "stdout"
        }
      ]
    }
  ]
}